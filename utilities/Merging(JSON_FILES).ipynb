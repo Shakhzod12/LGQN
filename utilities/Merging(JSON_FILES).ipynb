{
  "nbformat": 4,
  "nbformat_minor": 0,
  "metadata": {
    "colab": {
      "provenance": [],
      "toc_visible": true
    },
    "kernelspec": {
      "name": "python3",
      "display_name": "Python 3"
    },
    "language_info": {
      "name": "python"
    }
  },
  "cells": [
    {
      "cell_type": "code",
      "execution_count": null,
      "metadata": {
        "id": "zNdLcs02YmMm"
      },
      "outputs": [],
      "source": []
    },
    {
      "cell_type": "markdown",
      "source": [
        "### Merging all JSON FILES\n"
      ],
      "metadata": {
        "id": "mNjCJYUcYnR_"
      }
    },
    {
      "cell_type": "code",
      "source": [
        "#### I have used this code for merging them, now the final file is around 6.6 mb !\n",
        "\n",
        "import json\n",
        "import os\n",
        "\n",
        "# Define the folder path where the JSON files are located\n",
        "folder_path = '/content/pretrain'\n",
        "\n",
        "# List all JSON files in the folder\n",
        "json_files = [f for f in os.listdir(folder_path) if f.endswith('.json')]\n",
        "\n",
        "# Initialize an empty list to hold all the video entries\n",
        "merged_videos = []\n",
        "\n",
        "# Loop through each JSON file and merge the arrays\n",
        "for json_file in json_files:\n",
        "    file_path = os.path.join(folder_path, json_file)\n",
        "    with open(file_path, 'r') as f:\n",
        "        data = json.load(f)\n",
        "        if isinstance(data, list):\n",
        "            merged_videos.extend(data)\n",
        "        else:\n",
        "            print(f\"Skipping file '{json_file}' as it is not a list.\")\n",
        "\n",
        "# Create the merged data structure\n",
        "merged_data = merged_videos\n",
        "\n",
        "# Save the merged data to a new JSON file\n",
        "merged_file_path = os.path.join(folder_path, 'NLQ_pretrain_0_7.json')\n",
        "with open(merged_file_path, 'w') as f:\n",
        "    json.dump(merged_data, f, indent=4)\n",
        "\n",
        "print(f\"Merged JSON data has been saved to '{merged_file_path}'\")"
      ],
      "metadata": {
        "id": "AGmHVAduYqrq"
      },
      "execution_count": null,
      "outputs": []
    }
  ]
}