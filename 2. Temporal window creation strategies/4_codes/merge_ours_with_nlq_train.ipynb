{
 "cells": [
  {
   "cell_type": "markdown",
   "metadata": {
    "id": "XBsjg8pN0knX"
   },
   "source": [
    "## Download Data and Setup Environment"
   ]
  },
  {
   "cell_type": "markdown",
   "metadata": {
    "id": "FcNVEU5Z8f5p"
   },
   "source": [
    "### **Fill In Your Access Info Here**\n",
    "If you don't have access and secret keys, first sign the Ego4D License at [ego4ddataset.com](https://ego4ddataset.com)"
   ]
  },
  {
   "cell_type": "code",
   "execution_count": 2,
   "metadata": {
    "id": "lTSvhBsBvnXy"
   },
   "outputs": [],
   "source": [
    "import os\n",
    "os.environ['AWS_ACCESS_KEY_ID'] = \"\"\n",
    "os.environ['AWS_SECRET_ACCESS_KEY'] = \"\""
   ]
  },
  {
   "cell_type": "markdown",
   "metadata": {
    "id": "WcIg7gNx82Bq"
   },
   "source": [
    "### **Set up CLIs and Download Annotations + Repo**"
   ]
  },
  {
   "cell_type": "code",
   "execution_count": 3,
   "metadata": {
    "colab": {
     "base_uri": "https://localhost:8080/"
    },
    "id": "D-D9Jm-l162m",
    "outputId": "09a1728f-5995-4606-a12c-fcfa8e912adc"
   },
   "outputs": [
    {
     "output_type": "stream",
     "name": "stdout",
     "text": [
      "  % Total    % Received % Xferd  Average Speed   Time    Time     Time  Current\n",
      "                                 Dload  Upload   Total   Spent    Left  Speed\n",
      "100 57.9M  100 57.9M    0     0  45.7M      0  0:00:01  0:00:01 --:--:-- 45.7M\n"
     ]
    }
   ],
   "source": [
    "# Download the AWS and Ego4D CLIs, then download the annotations locally\n",
    "# Set up the AWS CLI\n",
    "!curl \"https://awscli.amazonaws.com/awscli-exe-linux-x86_64.zip\" -o \"awscliv2.zip\"\n",
    "!unzip -o awscliv2.zip >/dev/null\n",
    "!sudo ./aws/install >/dev/null 2>&1\n",
    "!aws configure set aws_access_key_id \"$AWS_ACCESS_KEY_ID\" && aws configure set aws_secret_access_key \"$AWS_SECRET_ACCESS_KEY\"\n",
    "!rm \"awscliv2.zip\""
   ]
  },
  {
   "cell_type": "markdown",
   "metadata": {
    "id": "5tXEDSW50Ebd"
   },
   "source": [
    "### Install the ego4d CLI and Download Data"
   ]
  },
  {
   "cell_type": "code",
   "execution_count": 4,
   "metadata": {
    "colab": {
     "base_uri": "https://localhost:8080/"
    },
    "collapsed": true,
    "id": "Jg6Xt1p-On-a",
    "outputId": "3d297bbe-babd-43ec-b615-3610040b7ffe"
   },
   "outputs": [
    {
     "output_type": "stream",
     "name": "stdout",
     "text": [
      "Collecting ego4d\n",
      "  Downloading ego4d-1.7.3.tar.gz (94 kB)\n",
      "\u001B[?25l     \u001B[90m━━━━━━━━━━━━━━━━━━━━━━━━━━━━━━━━━━━━━━━━\u001B[0m \u001B[32m0.0/94.5 kB\u001B[0m \u001B[31m?\u001B[0m eta \u001B[36m-:--:--\u001B[0m\r\u001B[2K     \u001B[91m━━━━━━━━━━━━━━━━━━━━━━━━━━━━━━━━━━━━━━━\u001B[0m\u001B[90m╺\u001B[0m \u001B[32m92.2/94.5 kB\u001B[0m \u001B[31m3.3 MB/s\u001B[0m eta \u001B[36m0:00:01\u001B[0m\r\u001B[2K     \u001B[90m━━━━━━━━━━━━━━━━━━━━━━━━━━━━━━━━━━━━━━━━\u001B[0m \u001B[32m94.5/94.5 kB\u001B[0m \u001B[31m1.7 MB/s\u001B[0m eta \u001B[36m0:00:00\u001B[0m\n",
      "\u001B[?25h  Installing build dependencies ... \u001B[?25l\u001B[?25hdone\n",
      "  Getting requirements to build wheel ... \u001B[?25l\u001B[?25hdone\n",
      "  Preparing metadata (pyproject.toml) ... \u001B[?25l\u001B[?25hdone\n",
      "Collecting boto3 (from ego4d)\n",
      "  Downloading boto3-1.34.140-py3-none-any.whl (139 kB)\n",
      "\u001B[2K     \u001B[90m━━━━━━━━━━━━━━━━━━━━━━━━━━━━━━━━━━━━━━━━\u001B[0m \u001B[32m139.2/139.2 kB\u001B[0m \u001B[31m4.4 MB/s\u001B[0m eta \u001B[36m0:00:00\u001B[0m\n",
      "\u001B[?25hRequirement already satisfied: tqdm in /usr/local/lib/python3.10/dist-packages (from ego4d) (4.66.4)\n",
      "Requirement already satisfied: regex in /usr/local/lib/python3.10/dist-packages (from ego4d) (2024.5.15)\n",
      "Collecting dataclasses-json (from ego4d)\n",
      "  Downloading dataclasses_json-0.6.7-py3-none-any.whl (28 kB)\n",
      "Collecting iopath (from ego4d)\n",
      "  Downloading iopath-0.1.10.tar.gz (42 kB)\n",
      "\u001B[2K     \u001B[90m━━━━━━━━━━━━━━━━━━━━━━━━━━━━━━━━━━━━━━━━\u001B[0m \u001B[32m42.2/42.2 kB\u001B[0m \u001B[31m4.8 MB/s\u001B[0m eta \u001B[36m0:00:00\u001B[0m\n",
      "\u001B[?25h  Preparing metadata (setup.py) ... \u001B[?25l\u001B[?25hdone\n",
      "Collecting botocore<1.35.0,>=1.34.140 (from boto3->ego4d)\n",
      "  Downloading botocore-1.34.140-py3-none-any.whl (12.4 MB)\n",
      "\u001B[2K     \u001B[90m━━━━━━━━━━━━━━━━━━━━━━━━━━━━━━━━━━━━━━━━\u001B[0m \u001B[32m12.4/12.4 MB\u001B[0m \u001B[31m65.4 MB/s\u001B[0m eta \u001B[36m0:00:00\u001B[0m\n",
      "\u001B[?25hCollecting jmespath<2.0.0,>=0.7.1 (from boto3->ego4d)\n",
      "  Downloading jmespath-1.0.1-py3-none-any.whl (20 kB)\n",
      "Collecting s3transfer<0.11.0,>=0.10.0 (from boto3->ego4d)\n",
      "  Downloading s3transfer-0.10.2-py3-none-any.whl (82 kB)\n",
      "\u001B[2K     \u001B[90m━━━━━━━━━━━━━━━━━━━━━━━━━━━━━━━━━━━━━━━━\u001B[0m \u001B[32m82.7/82.7 kB\u001B[0m \u001B[31m10.1 MB/s\u001B[0m eta \u001B[36m0:00:00\u001B[0m\n",
      "\u001B[?25hCollecting marshmallow<4.0.0,>=3.18.0 (from dataclasses-json->ego4d)\n",
      "  Downloading marshmallow-3.21.3-py3-none-any.whl (49 kB)\n",
      "\u001B[2K     \u001B[90m━━━━━━━━━━━━━━━━━━━━━━━━━━━━━━━━━━━━━━━━\u001B[0m \u001B[32m49.2/49.2 kB\u001B[0m \u001B[31m5.9 MB/s\u001B[0m eta \u001B[36m0:00:00\u001B[0m\n",
      "\u001B[?25hCollecting typing-inspect<1,>=0.4.0 (from dataclasses-json->ego4d)\n",
      "  Downloading typing_inspect-0.9.0-py3-none-any.whl (8.8 kB)\n",
      "Requirement already satisfied: typing_extensions in /usr/local/lib/python3.10/dist-packages (from iopath->ego4d) (4.12.2)\n",
      "Collecting portalocker (from iopath->ego4d)\n",
      "  Downloading portalocker-2.10.0-py3-none-any.whl (18 kB)\n",
      "Requirement already satisfied: python-dateutil<3.0.0,>=2.1 in /usr/local/lib/python3.10/dist-packages (from botocore<1.35.0,>=1.34.140->boto3->ego4d) (2.8.2)\n",
      "Requirement already satisfied: urllib3!=2.2.0,<3,>=1.25.4 in /usr/local/lib/python3.10/dist-packages (from botocore<1.35.0,>=1.34.140->boto3->ego4d) (2.0.7)\n",
      "Requirement already satisfied: packaging>=17.0 in /usr/local/lib/python3.10/dist-packages (from marshmallow<4.0.0,>=3.18.0->dataclasses-json->ego4d) (24.1)\n",
      "Collecting mypy-extensions>=0.3.0 (from typing-inspect<1,>=0.4.0->dataclasses-json->ego4d)\n",
      "  Downloading mypy_extensions-1.0.0-py3-none-any.whl (4.7 kB)\n",
      "Requirement already satisfied: six>=1.5 in /usr/local/lib/python3.10/dist-packages (from python-dateutil<3.0.0,>=2.1->botocore<1.35.0,>=1.34.140->boto3->ego4d) (1.16.0)\n",
      "Building wheels for collected packages: ego4d, iopath\n",
      "  Building wheel for ego4d (pyproject.toml) ... \u001B[?25l\u001B[?25hdone\n",
      "  Created wheel for ego4d: filename=ego4d-1.7.3-py3-none-any.whl size=118251 sha256=5b5395dc51ddb73cc20bc6f1f476647a17d231262d275608d57cde300559d514\n",
      "  Stored in directory: /root/.cache/pip/wheels/65/a8/89/a6187e3bc9a85e81899ab8d5ddc2011c9954d3b6cb84d47e03\n",
      "  Building wheel for iopath (setup.py) ... \u001B[?25l\u001B[?25hdone\n",
      "  Created wheel for iopath: filename=iopath-0.1.10-py3-none-any.whl size=31532 sha256=8d0585e0cd9e356c0dae68040da43b0743fe3419a699b53541732fa245789155\n",
      "  Stored in directory: /root/.cache/pip/wheels/9a/a3/b6/ac0fcd1b4ed5cfeb3db92e6a0e476cfd48ed0df92b91080c1d\n",
      "Successfully built ego4d iopath\n",
      "Installing collected packages: portalocker, mypy-extensions, marshmallow, jmespath, typing-inspect, iopath, botocore, s3transfer, dataclasses-json, boto3, ego4d\n",
      "Successfully installed boto3-1.34.140 botocore-1.34.140 dataclasses-json-0.6.7 ego4d-1.7.3 iopath-0.1.10 jmespath-1.0.1 marshmallow-3.21.3 mypy-extensions-1.0.0 portalocker-2.10.0 s3transfer-0.10.2 typing-inspect-0.9.0\n"
     ]
    }
   ],
   "source": [
    "# Set up the Ego4D CLI\n",
    "!pip install ego4d"
   ]
  },
  {
   "cell_type": "code",
   "execution_count": 5,
   "metadata": {
    "colab": {
     "base_uri": "https://localhost:8080/"
    },
    "id": "tcKr9i88KMaa",
    "outputId": "9993e232-79c2-46ca-dd63-f8a4a029eb02"
   },
   "outputs": [
    {
     "output_type": "stream",
     "name": "stdout",
     "text": [
      "Datasets to download: {'annotations'}\n",
      "Download Path: /content/ego4d_data/v1\n",
      "Downloading Ego4D metadata json..\n",
      "Ego4D Metadata: /content/ego4d_data/ego4d.json\n",
      "Checking requested datasets and versions...\n",
      "Created download directory for version 'v1' of dataset: 'annotations' at: /content/ego4d_data/v1/annotations\n",
      "Benchmarks specified but ignored without a benchmarks field in manifest.\n",
      "Retrieving object metadata from S3...\n",
      "100% 31/31 [00:00<00:00, 435.79object/s]\n",
      "Checking if latest file versions are already downloaded...\n",
      "  0% 0/31 [00:00<?, ?file/s]WARNING:urllib3.connectionpool:Connection pool is full, discarding connection: ego4d-consortium-sharing.s3.us-west-1.amazonaws.com. Connection pool size: 10\n",
      "WARNING:urllib3.connectionpool:Connection pool is full, discarding connection: ego4d-consortium-sharing.s3.us-west-1.amazonaws.com. Connection pool size: 10\n",
      "WARNING:urllib3.connectionpool:Connection pool is full, discarding connection: ego4d-consortium-sharing.s3.us-west-1.amazonaws.com. Connection pool size: 10\n",
      " 42% 13/31 [00:00<00:01, 17.14file/s]WARNING:urllib3.connectionpool:Connection pool is full, discarding connection: ego4d-consortium-sharing.s3.us-west-1.amazonaws.com. Connection pool size: 10\n",
      "WARNING:urllib3.connectionpool:Connection pool is full, discarding connection: ego4d-consortium-sharing.s3.us-west-1.amazonaws.com. Connection pool size: 10\n",
      "100% 31/31 [00:00<00:00, 40.48file/s]\n",
      "No existing videos to filter.\n",
      "Downloading 31 files..\n",
      "100% 2.50G/2.51G [00:31<00:00, 114MiB/s]Checking file integrity...\n",
      "100% 2.51G/2.51G [00:31<00:00, 84.6MiB/s]\n"
     ]
    }
   ],
   "source": [
    "# Download the Ego4D Annotations to ego4d_data/\n",
    "!ego4d --output_directory=\"/content/ego4d_data/\" --datasets annotations --benchmarks nlq -y --version v1"
   ]
  },
  {
   "cell_type": "code",
   "source": [
    "import json\n",
    "\n",
    "ours = json.load(open(\"/content/ours_standard_filtered.json\"))\n",
    "ours_expanded = json.load(open(\"/content/Ours_expanded.json\"))\n",
    "naq = json.load(open(\"/content/naq.json\"))\n",
    "vlp = json.load(open(\"/content/vlp.json\"))\n",
    "\n",
    "nlq_train  = json.load(open(\"/content/ego4d_data/v1/annotations/nlq_train.json\"))\n",
    "\n"
   ],
   "metadata": {
    "id": "uGwpcZdvTtjK"
   },
   "execution_count": 7,
   "outputs": []
  },
  {
   "cell_type": "code",
   "source": [
    "import random\n",
    "ours_merged ={\"videos\": ours[\"videos\"] + nlq_train[\"videos\"]}\n",
    "random.shuffle(ours_merged[\"videos\"])\n",
    "\n",
    "ours_expanded_merged ={\"videos\": ours_expanded[\"videos\"] + nlq_train[\"videos\"]}\n",
    "random.shuffle(ours_expanded_merged[\"videos\"])\n",
    "\n",
    "naq_merged ={\"videos\": naq[\"videos\"] + nlq_train[\"videos\"]}\n",
    "random.shuffle(naq_merged[\"videos\"])\n",
    "\n",
    "vlp_merged ={\"videos\": vlp[\"videos\"] + nlq_train[\"videos\"]}\n",
    "random.shuffle(vlp_merged[\"videos\"])\n"
   ],
   "metadata": {
    "id": "oso-7m9FTtsS"
   },
   "execution_count": 10,
   "outputs": []
  },
  {
   "cell_type": "code",
   "source": [
    "with open('ours_merged.json', 'w') as file:\n",
    "    json.dump(ours_merged, file, indent=4)\n",
    "\n",
    "with open('ours_expanded_merged.json', 'w') as file:\n",
    "    json.dump(ours_expanded_merged, file, indent=4)\n",
    "\n",
    "with open('naq_merged.json', 'w') as file:\n",
    "    json.dump(naq_merged, file, indent=4)\n",
    "\n",
    "with open('vlp_merged.json', 'w') as file:\n",
    "    json.dump(vlp_merged, file, indent=4)\n"
   ],
   "metadata": {
    "id": "jW3IpH_ATtxu"
   },
   "execution_count": 11,
   "outputs": []
  }
 ],
 "metadata": {
  "colab": {
   "provenance": []
  },
  "kernelspec": {
   "display_name": "Python 3",
   "name": "python3"
  },
  "language_info": {
   "name": "python"
  }
 },
 "nbformat": 4,
 "nbformat_minor": 0
}
