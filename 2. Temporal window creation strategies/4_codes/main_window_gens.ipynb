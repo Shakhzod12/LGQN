{
 "cells": [
  {
   "cell_type": "markdown",
   "metadata": {
    "id": "lmoup7_Xsbc4"
   },
   "source": [
    "# Create enhanced NLQ dataset for pre-training before using LLMs\n",
    "\n"
   ]
  },
  {
   "cell_type": "markdown",
   "metadata": {
    "id": "XBsjg8pN0knX"
   },
   "source": [
    "## Download Data and Setup Environment"
   ]
  },
  {
   "cell_type": "markdown",
   "metadata": {
    "id": "FcNVEU5Z8f5p"
   },
   "source": [
    "### **Fill In Your Access Info Here**\n",
    "If you don't have access and secret keys, first sign the Ego4D License at [ego4ddataset.com](https://ego4ddataset.com)"
   ]
  },
  {
   "cell_type": "code",
   "execution_count": 1,
   "metadata": {
    "id": "lTSvhBsBvnXy"
   },
   "outputs": [],
   "source": [
    "import os\n",
    "os.environ['AWS_ACCESS_KEY_ID'] = \"\"\n",
    "os.environ['AWS_SECRET_ACCESS_KEY'] = \"\""
   ]
  },
  {
   "cell_type": "markdown",
   "metadata": {
    "id": "WcIg7gNx82Bq"
   },
   "source": [
    "### **Set up CLIs and Download Annotations + Repo**"
   ]
  },
  {
   "cell_type": "code",
   "execution_count": 2,
   "metadata": {
    "colab": {
     "base_uri": "https://localhost:8080/"
    },
    "id": "D-D9Jm-l162m",
    "outputId": "d91c49d6-a4df-490f-aad5-22ea5fb41313"
   },
   "outputs": [
    {
     "output_type": "stream",
     "name": "stdout",
     "text": [
      "  % Total    % Received % Xferd  Average Speed   Time    Time     Time  Current\n",
      "                                 Dload  Upload   Total   Spent    Left  Speed\n",
      "100 57.9M  100 57.9M    0     0  84.0M      0 --:--:-- --:--:-- --:--:-- 84.0M\n"
     ]
    }
   ],
   "source": [
    "# Download the AWS and Ego4D CLIs, then download the annotations locally\n",
    "# Set up the AWS CLI\n",
    "!curl \"https://awscli.amazonaws.com/awscli-exe-linux-x86_64.zip\" -o \"awscliv2.zip\"\n",
    "!unzip -o awscliv2.zip >/dev/null\n",
    "!sudo ./aws/install >/dev/null 2>&1\n",
    "!aws configure set aws_access_key_id \"$AWS_ACCESS_KEY_ID\" && aws configure set aws_secret_access_key \"$AWS_SECRET_ACCESS_KEY\"\n",
    "!rm \"awscliv2.zip\""
   ]
  },
  {
   "cell_type": "markdown",
   "metadata": {
    "id": "5tXEDSW50Ebd"
   },
   "source": [
    "### Install the ego4d CLI and Download Data"
   ]
  },
  {
   "cell_type": "code",
   "execution_count": 3,
   "metadata": {
    "colab": {
     "base_uri": "https://localhost:8080/"
    },
    "collapsed": true,
    "id": "Jg6Xt1p-On-a",
    "outputId": "d9038b25-ca70-49e3-caac-56ab6f8525b0"
   },
   "outputs": [
    {
     "output_type": "stream",
     "name": "stdout",
     "text": [
      "Collecting ego4d\n",
      "  Downloading ego4d-1.7.3.tar.gz (94 kB)\n",
      "\u001B[?25l     \u001B[90m━━━━━━━━━━━━━━━━━━━━━━━━━━━━━━━━━━━━━━━━\u001B[0m \u001B[32m0.0/94.5 kB\u001B[0m \u001B[31m?\u001B[0m eta \u001B[36m-:--:--\u001B[0m\r\u001B[2K     \u001B[90m━━━━━━━━━━━━━━━━━━━━━━━━━━━━━━━━━━━━━━━━\u001B[0m \u001B[32m94.5/94.5 kB\u001B[0m \u001B[31m2.7 MB/s\u001B[0m eta \u001B[36m0:00:00\u001B[0m\n",
      "\u001B[?25h  Installing build dependencies ... \u001B[?25l\u001B[?25hdone\n",
      "  Getting requirements to build wheel ... \u001B[?25l\u001B[?25hdone\n",
      "  Preparing metadata (pyproject.toml) ... \u001B[?25l\u001B[?25hdone\n",
      "Collecting boto3 (from ego4d)\n",
      "  Downloading boto3-1.34.144-py3-none-any.whl (139 kB)\n",
      "\u001B[2K     \u001B[90m━━━━━━━━━━━━━━━━━━━━━━━━━━━━━━━━━━━━━━━━\u001B[0m \u001B[32m139.2/139.2 kB\u001B[0m \u001B[31m6.8 MB/s\u001B[0m eta \u001B[36m0:00:00\u001B[0m\n",
      "\u001B[?25hRequirement already satisfied: tqdm in /usr/local/lib/python3.10/dist-packages (from ego4d) (4.66.4)\n",
      "Requirement already satisfied: regex in /usr/local/lib/python3.10/dist-packages (from ego4d) (2024.5.15)\n",
      "Collecting dataclasses-json (from ego4d)\n",
      "  Downloading dataclasses_json-0.6.7-py3-none-any.whl (28 kB)\n",
      "Collecting iopath (from ego4d)\n",
      "  Downloading iopath-0.1.10.tar.gz (42 kB)\n",
      "\u001B[2K     \u001B[90m━━━━━━━━━━━━━━━━━━━━━━━━━━━━━━━━━━━━━━━━\u001B[0m \u001B[32m42.2/42.2 kB\u001B[0m \u001B[31m5.2 MB/s\u001B[0m eta \u001B[36m0:00:00\u001B[0m\n",
      "\u001B[?25h  Preparing metadata (setup.py) ... \u001B[?25l\u001B[?25hdone\n",
      "Collecting botocore<1.35.0,>=1.34.144 (from boto3->ego4d)\n",
      "  Downloading botocore-1.34.144-py3-none-any.whl (12.4 MB)\n",
      "\u001B[2K     \u001B[90m━━━━━━━━━━━━━━━━━━━━━━━━━━━━━━━━━━━━━━━━\u001B[0m \u001B[32m12.4/12.4 MB\u001B[0m \u001B[31m26.7 MB/s\u001B[0m eta \u001B[36m0:00:00\u001B[0m\n",
      "\u001B[?25hCollecting jmespath<2.0.0,>=0.7.1 (from boto3->ego4d)\n",
      "  Downloading jmespath-1.0.1-py3-none-any.whl (20 kB)\n",
      "Collecting s3transfer<0.11.0,>=0.10.0 (from boto3->ego4d)\n",
      "  Downloading s3transfer-0.10.2-py3-none-any.whl (82 kB)\n",
      "\u001B[2K     \u001B[90m━━━━━━━━━━━━━━━━━━━━━━━━━━━━━━━━━━━━━━━━\u001B[0m \u001B[32m82.7/82.7 kB\u001B[0m \u001B[31m9.0 MB/s\u001B[0m eta \u001B[36m0:00:00\u001B[0m\n",
      "\u001B[?25hCollecting marshmallow<4.0.0,>=3.18.0 (from dataclasses-json->ego4d)\n",
      "  Downloading marshmallow-3.21.3-py3-none-any.whl (49 kB)\n",
      "\u001B[2K     \u001B[90m━━━━━━━━━━━━━━━━━━━━━━━━━━━━━━━━━━━━━━━━\u001B[0m \u001B[32m49.2/49.2 kB\u001B[0m \u001B[31m6.1 MB/s\u001B[0m eta \u001B[36m0:00:00\u001B[0m\n",
      "\u001B[?25hCollecting typing-inspect<1,>=0.4.0 (from dataclasses-json->ego4d)\n",
      "  Downloading typing_inspect-0.9.0-py3-none-any.whl (8.8 kB)\n",
      "Requirement already satisfied: typing_extensions in /usr/local/lib/python3.10/dist-packages (from iopath->ego4d) (4.12.2)\n",
      "Collecting portalocker (from iopath->ego4d)\n",
      "  Downloading portalocker-2.10.1-py3-none-any.whl (18 kB)\n",
      "Requirement already satisfied: python-dateutil<3.0.0,>=2.1 in /usr/local/lib/python3.10/dist-packages (from botocore<1.35.0,>=1.34.144->boto3->ego4d) (2.8.2)\n",
      "Requirement already satisfied: urllib3!=2.2.0,<3,>=1.25.4 in /usr/local/lib/python3.10/dist-packages (from botocore<1.35.0,>=1.34.144->boto3->ego4d) (2.0.7)\n",
      "Requirement already satisfied: packaging>=17.0 in /usr/local/lib/python3.10/dist-packages (from marshmallow<4.0.0,>=3.18.0->dataclasses-json->ego4d) (24.1)\n",
      "Collecting mypy-extensions>=0.3.0 (from typing-inspect<1,>=0.4.0->dataclasses-json->ego4d)\n",
      "  Downloading mypy_extensions-1.0.0-py3-none-any.whl (4.7 kB)\n",
      "Requirement already satisfied: six>=1.5 in /usr/local/lib/python3.10/dist-packages (from python-dateutil<3.0.0,>=2.1->botocore<1.35.0,>=1.34.144->boto3->ego4d) (1.16.0)\n",
      "Building wheels for collected packages: ego4d, iopath\n",
      "  Building wheel for ego4d (pyproject.toml) ... \u001B[?25l\u001B[?25hdone\n",
      "  Created wheel for ego4d: filename=ego4d-1.7.3-py3-none-any.whl size=118250 sha256=3ade1265cf493f68b9cbabfba1f99463ba8db672b136cb70a77aa8a6565bdea5\n",
      "  Stored in directory: /root/.cache/pip/wheels/65/a8/89/a6187e3bc9a85e81899ab8d5ddc2011c9954d3b6cb84d47e03\n",
      "  Building wheel for iopath (setup.py) ... \u001B[?25l\u001B[?25hdone\n",
      "  Created wheel for iopath: filename=iopath-0.1.10-py3-none-any.whl size=31532 sha256=bbd12f33608ea3d6f65e26586da3784ba3d3cd79d2a2bad075dfae7535fc556d\n",
      "  Stored in directory: /root/.cache/pip/wheels/9a/a3/b6/ac0fcd1b4ed5cfeb3db92e6a0e476cfd48ed0df92b91080c1d\n",
      "Successfully built ego4d iopath\n",
      "Installing collected packages: portalocker, mypy-extensions, marshmallow, jmespath, typing-inspect, iopath, botocore, s3transfer, dataclasses-json, boto3, ego4d\n",
      "Successfully installed boto3-1.34.144 botocore-1.34.144 dataclasses-json-0.6.7 ego4d-1.7.3 iopath-0.1.10 jmespath-1.0.1 marshmallow-3.21.3 mypy-extensions-1.0.0 portalocker-2.10.1 s3transfer-0.10.2 typing-inspect-0.9.0\n"
     ]
    }
   ],
   "source": [
    "# Set up the Ego4D CLI\n",
    "!pip install ego4d"
   ]
  },
  {
   "cell_type": "code",
   "execution_count": 4,
   "metadata": {
    "colab": {
     "base_uri": "https://localhost:8080/"
    },
    "id": "tcKr9i88KMaa",
    "outputId": "cba99dc2-e827-4a11-edfe-3b9dcd102b9a"
   },
   "outputs": [
    {
     "output_type": "stream",
     "name": "stdout",
     "text": [
      "Datasets to download: {'annotations'}\n",
      "Download Path: /content/ego4d_data/v1\n",
      "Downloading Ego4D metadata json..\n",
      "Ego4D Metadata: /content/ego4d_data/ego4d.json\n",
      "Checking requested datasets and versions...\n",
      "Created download directory for version 'v1' of dataset: 'annotations' at: /content/ego4d_data/v1/annotations\n",
      "Benchmarks specified but ignored without a benchmarks field in manifest.\n",
      "Retrieving object metadata from S3...\n",
      "100% 31/31 [00:00<00:00, 241.26object/s]\n",
      "Checking if latest file versions are already downloaded...\n",
      "  3% 1/31 [00:00<00:03,  9.79file/s]WARNING:urllib3.connectionpool:Connection pool is full, discarding connection: ego4d-consortium-sharing.s3.us-west-1.amazonaws.com. Connection pool size: 10\n",
      "WARNING:urllib3.connectionpool:Connection pool is full, discarding connection: ego4d-consortium-sharing.s3.us-west-1.amazonaws.com. Connection pool size: 10\n",
      "WARNING:urllib3.connectionpool:Connection pool is full, discarding connection: ego4d-consortium-sharing.s3.us-west-1.amazonaws.com. Connection pool size: 10\n",
      "WARNING:urllib3.connectionpool:Connection pool is full, discarding connection: ego4d-consortium-sharing.s3.us-west-1.amazonaws.com. Connection pool size: 10\n",
      " 32% 10/31 [00:01<00:02,  8.95file/s]WARNING:urllib3.connectionpool:Connection pool is full, discarding connection: ego4d-consortium-sharing.s3.us-west-1.amazonaws.com. Connection pool size: 10\n",
      "100% 31/31 [00:01<00:00, 27.74file/s]\n",
      "No existing videos to filter.\n",
      "Downloading 31 files..\n",
      "100% 2.51G/2.51G [00:31<00:00, 126MiB/s]Checking file integrity...\n",
      "100% 2.51G/2.51G [00:31<00:00, 85.9MiB/s]\n"
     ]
    }
   ],
   "source": [
    "# Download the Ego4D Annotations to ego4d_data/\n",
    "!ego4d --output_directory=\"/content/ego4d_data/\" --datasets annotations --benchmarks nlq -y --version v1"
   ]
  },
  {
   "cell_type": "markdown",
   "metadata": {
    "id": "LoJPAcJuCwJg"
   },
   "source": [
    "### VLP features downloading\n"
   ]
  },
  {
   "cell_type": "code",
   "source": [
    "# Open the file in read mode\n",
    "with open(\"UIDs_of_visual_features.txt\", \"r\") as file:\n",
    "    features_list = [line.strip() for line in file]"
   ],
   "metadata": {
    "id": "QJBoVVea28nd"
   },
   "execution_count": 5,
   "outputs": []
  },
  {
   "cell_type": "markdown",
   "metadata": {
    "id": "Flbksi8eMBtK"
   },
   "source": [
    "Load the json files in pyton dictionaries"
   ]
  },
  {
   "cell_type": "code",
   "execution_count": 6,
   "metadata": {
    "id": "IfgwIsuOBIhM"
   },
   "outputs": [],
   "source": [
    "import json\n",
    "metadata = json.load(open(\"/content/ego4d_data/ego4d.json\"))\n",
    "narration = json.load(open(\"/content/ego4d_data/v1/annotations/narration.json\"))\n",
    "nlq_val = json.load(open(\"/content/ego4d_data/v1/annotations/nlq_val.json\"))"
   ]
  },
  {
   "cell_type": "markdown",
   "source": [],
   "metadata": {
    "id": "ETtBhkaJVoOu"
   }
  },
  {
   "cell_type": "code",
   "execution_count": 7,
   "metadata": {
    "id": "RakRb4IpBy0J"
   },
   "outputs": [],
   "source": [
    "videos = metadata.get(\"videos\")\n",
    "clips = metadata.get(\"clips\")"
   ]
  },
  {
   "cell_type": "markdown",
   "metadata": {
    "id": "-rBhEdtqPsdi"
   },
   "source": [
    "## Filter out clips that are in nlq_train and nlq_val"
   ]
  },
  {
   "cell_type": "code",
   "execution_count": 8,
   "metadata": {
    "colab": {
     "base_uri": "https://localhost:8080/"
    },
    "id": "aA-BTE0XPrZP",
    "outputId": "573e60f4-9333-45ab-9636-24a04ae8ba7c"
   },
   "outputs": [
    {
     "output_type": "stream",
     "name": "stdout",
     "text": [
      "Number of nlq_val_videos_ids:  247\n"
     ]
    }
   ],
   "source": [
    "nlq_val_videos = nlq_val.get(\"videos\")\n",
    "nlq_val_videos_ids= []\n",
    "for item in nlq_val_videos:\n",
    "  nlq_val_videos_ids.append(item[\"video_uid\"])\n",
    "\n",
    "print(\"Number of nlq_val_videos_ids: \",len(nlq_val_videos_ids))"
   ]
  },
  {
   "cell_type": "code",
   "execution_count": 9,
   "metadata": {
    "colab": {
     "base_uri": "https://localhost:8080/"
    },
    "id": "MmS9go79R8bq",
    "outputId": "6aa4e592-e1af-42e9-f659-5d2633a40a98"
   },
   "outputs": [
    {
     "output_type": "stream",
     "name": "stdout",
     "text": [
      "Number of nlq_train_videos_ids: 754\n"
     ]
    }
   ],
   "source": [
    "nlq_train = json.load(open(\"/content/ego4d_data/v1/annotations/nlq_train.json\"))\n",
    "\n",
    "nlq_train_videos = nlq_train.get(\"videos\")\n",
    "nlq_train_videos_ids= []\n",
    "for item in nlq_train_videos:\n",
    "  nlq_train_videos_ids.append(item[\"video_uid\"])\n",
    "\n",
    "print(\"Number of nlq_train_videos_ids:\", len(nlq_train_videos_ids))"
   ]
  },
  {
   "cell_type": "code",
   "execution_count": 10,
   "metadata": {
    "colab": {
     "base_uri": "https://localhost:8080/"
    },
    "id": "7VHqet7tPrbu",
    "outputId": "2b45ace9-49fb-4168-e2c5-d0b50c13a4fd"
   },
   "outputs": [
    {
     "output_type": "stream",
     "name": "stdout",
     "text": [
      "12283\n"
     ]
    }
   ],
   "source": [
    "metadata_clips = metadata.get(\"clips\")\n",
    "metadata_clips_video_ids = []\n",
    "for item in metadata_clips:\n",
    "  metadata_clips_video_ids.append(item[\"video_uid\"])\n",
    "\n",
    "# of videos included in metadata\n",
    "print(len(metadata_clips_video_ids))"
   ]
  },
  {
   "cell_type": "markdown",
   "source": [
    "In the above code there is duplicates. only unique videos needed\n"
   ],
   "metadata": {
    "id": "Wvi1hoURaWuV"
   }
  },
  {
   "cell_type": "code",
   "source": [
    "unique_video_ids = list(set(metadata_clips_video_ids))\n",
    "\n",
    "# Print the number of unique video IDs,\n",
    "# means only 3878 video has clips\n",
    "print(\"number of videos with clips:\", len(unique_video_ids))"
   ],
   "metadata": {
    "colab": {
     "base_uri": "https://localhost:8080/"
    },
    "id": "sFo2aa5caPIZ",
    "outputId": "a13ad3ea-8f50-4a58-d9b5-278cb7a3e960"
   },
   "execution_count": 11,
   "outputs": [
    {
     "output_type": "stream",
     "name": "stdout",
     "text": [
      "number of videos with clips: 3878\n"
     ]
    }
   ]
  },
  {
   "cell_type": "code",
   "execution_count": 12,
   "metadata": {
    "colab": {
     "base_uri": "https://localhost:8080/"
    },
    "id": "RVvC6jPkUN74",
    "outputId": "041ddc3d-6a32-421a-dfb8-c417cbefd0f7"
   },
   "outputs": [
    {
     "output_type": "stream",
     "name": "stdout",
     "text": [
      "9645\n"
     ]
    }
   ],
   "source": [
    "narration_videos = list(narration.keys())\n",
    "print(len(narration_videos))"
   ]
  },
  {
   "cell_type": "code",
   "execution_count": 13,
   "metadata": {
    "colab": {
     "base_uri": "https://localhost:8080/"
    },
    "id": "nJUTZwUAPret",
    "outputId": "e18fec55-f7c7-4265-d13c-73df87221a36"
   },
   "outputs": [
    {
     "output_type": "stream",
     "name": "stdout",
     "text": [
      "allowed_videos: 8891\n"
     ]
    }
   ],
   "source": [
    "excluded_videos = nlq_train_videos_ids + nlq_val_videos\n",
    "\n",
    "allowed_videos = [item for item in narration_videos if item not in excluded_videos]\n",
    "print(\"allowed_videos:\", len(allowed_videos))"
   ]
  },
  {
   "cell_type": "markdown",
   "metadata": {
    "id": "7zzRW15gVMWs"
   },
   "source": [
    "So far, we used only narration.json. Now, we will combine the informations from the metadata and narrations to create real json file"
   ]
  },
  {
   "cell_type": "code",
   "execution_count": 14,
   "metadata": {
    "colab": {
     "base_uri": "https://localhost:8080/"
    },
    "id": "aa2Buy61EpBt",
    "outputId": "4217be3b-fc27-4e15-f882-b72893522cea"
   },
   "outputs": [
    {
     "output_type": "stream",
     "name": "stdout",
     "text": [
      "Number of common files: 8839\n"
     ]
    }
   ],
   "source": [
    "# Convert the lists to sets\n",
    "set1 = set(features_list)\n",
    "set2 = set(allowed_videos)\n",
    "\n",
    "# Find the intersection of the two sets\n",
    "common_files = set1.intersection(set2)\n",
    "\n",
    "# Get the count of the common files\n",
    "common_files_count = len(common_files)\n",
    "\n",
    "# Print the count\n",
    "print(\"Number of common files:\", common_files_count)\n",
    "\n",
    "common_files = list(common_files)"
   ]
  },
  {
   "cell_type": "markdown",
   "source": [
    "## Finding the wanted mean and std corresponding to nlq_val"
   ],
   "metadata": {
    "id": "SNfeCLudzWHU"
   }
  },
  {
   "cell_type": "code",
   "source": [
    "!install matplotlib\n",
    "\n",
    "import matplotlib.pyplot as plt\n",
    "import numpy as np\n",
    "#nlq_val = json.load(open(\"/content/ego4d_data/v1/annotations/nlq_val.json\"))\n",
    "\n",
    "nlq_val_durations = []\n",
    "for vid in nlq_val[\"videos\"]:\n",
    "    for clip in vid[\"clips\"]:\n",
    "        for ann in clip[\"annotations\"]:\n",
    "            for query in ann[\"language_queries\"]:\n",
    "              start = query['clip_start_sec']\n",
    "              end = query['clip_end_sec']\n",
    "              nlq_val_durations.append(end-start)\n",
    "\n",
    "# Plot histogram\n",
    "plt.figure(figsize=(12, 6))\n",
    "plt.hist(nlq_val_durations, bins=30, edgecolor='k')\n",
    "plt.xlabel(\"Length of 'query' is seconds\")\n",
    "plt.ylabel('Frequency')\n",
    "plt.title('Distribution of the length of the queries in nlq_val')\n",
    "plt.show()\n",
    "\n",
    "print(\"mean:\", np.mean(nlq_val_durations))\n",
    "print(\"std:\", np.std(nlq_val_durations))"
   ],
   "metadata": {
    "colab": {
     "base_uri": "https://localhost:8080/",
     "height": 633
    },
    "id": "zWPe50qkzWSN",
    "outputId": "73305f15-39ee-4ac6-8f5f-044661e70566"
   },
   "execution_count": 15,
   "outputs": [
    {
     "output_type": "stream",
     "name": "stdout",
     "text": [
      "install: missing destination file operand after 'matplotlib'\n",
      "Try 'install --help' for more information.\n"
     ]
    },
    {
     "output_type": "display_data",
     "data": {
      "text/plain": [
       "<Figure size 1200x600 with 1 Axes>"
      ],
      "image/png": "[encoded data removed]"
     },
     "metadata": {}
    },
    {
     "output_type": "stream",
     "name": "stdout",
     "text": [
      "mean: 9.03800827096774\n",
      "std: 22.249793807260815\n"
     ]
    }
   ]
  },
  {
   "cell_type": "markdown",
   "source": [
    "We see that the target mean is **9.04** and the target standard deviation is **22.25**"
   ],
   "metadata": {
    "id": "1_226PBkzx6L"
   }
  },
  {
   "cell_type": "markdown",
   "source": [
    "# Creation of nlq_pretrains (Ours, Ours_expanded, VLP, simplified_NaQ)\n",
    "\n",
    "* This script processes video metadata and narration data to build a dictionary of videos, each containing clips and their corresponding annotations, while applying filters on the number of narrations and clips.\n"
   ],
   "metadata": {
    "id": "nxgeFO55TfyK"
   }
  },
  {
   "cell_type": "code",
   "source": [
    "def get_narrations_for_current_clip(video_start_sec, video_end_sec, narrations_dict):\n",
    "  \"\"\"\n",
    "  This method takes as input the start_sec, the end_sec of the clip and\n",
    "  all narrations from narration.json that correspond to the video.\n",
    "\n",
    "  The method outputs a list of dictionaries corresponding to 'language_queries'\n",
    "  from the NLQ schema containing only narrations from the current clip.\n",
    "\n",
    "  I do it this way because later is very easy to change the logic of the strategy\n",
    "  when we already have only the narrations from the current list\n",
    "  \"\"\"\n",
    "\n",
    "  LENGTH = len(narrations_dict)\n",
    "\n",
    "\n",
    "  result_list = []\n",
    "\n",
    "  i = 0\n",
    "\n",
    "  # We iterate through the narrations until we find the first narration for the clip\n",
    "  while LENGTH> i+1 and narrations_dict[i]['timestamp_sec']< video_start_sec:\n",
    "    i = i + 1\n",
    "\n",
    "\n",
    "  #We iterate through the remaining part, create and add dictionaries to the list\n",
    "  #until we find the last narration that is fully inside the clip\n",
    "  while LENGTH> i+1 and narrations_dict[i+1]['timestamp_sec']< video_end_sec:\n",
    "    dic = {\n",
    "            \"clip_start_sec\" : narrations_dict[i][\"timestamp_sec\"] - video_start_sec ,\n",
    "            \"clip_end_sec\" : narrations_dict[i+1][\"timestamp_sec\"] - video_start_sec,\n",
    "            \"query\": narrations_dict[i][\"narration_text\"]\n",
    "        }\n",
    "    if dic[\"clip_start_sec\"] >= 0.0 and dic[\"clip_end_sec\"] >0. and  dic[\"clip_end_sec\"]> dic[\"clip_start_sec\"] \\\n",
    "      and len(dic[\"query\"].split(\" \")) >=6 and \"#unsure\" not in dic[\"query\"]:\n",
    "\n",
    "      result_list.append(dic)\n",
    "    i = i + 1\n",
    "\n",
    "  return result_list"
   ],
   "metadata": {
    "id": "YyDbKGu-m928"
   },
   "execution_count": 24,
   "outputs": []
  },
  {
   "cell_type": "code",
   "source": [
    "def select_random_queries(narrations, number_of_narrations):\n",
    "  # this method returns a list with two consecutive narrations with equal length\n",
    "  possible_positions = list(range(len(narrations)))\n",
    "\n",
    "  samples  = random.sample(possible_positions, number_of_narrations)\n",
    "  samples.sort()\n",
    "\n",
    "  language_queries = []\n",
    "  for index in samples:\n",
    "    language_queries.append(narrations[index])\n",
    "\n",
    "  return language_queries\n"
   ],
   "metadata": {
    "id": "zuHG8U63kHz3"
   },
   "execution_count": 17,
   "outputs": []
  },
  {
   "cell_type": "markdown",
   "source": [
    "we will get the narrations from here and then we apply the random stuff, and selection of the narrations, directly from the narrations for the current video"
   ],
   "metadata": {
    "id": "UcDTeqJcqFME"
   }
  },
  {
   "cell_type": "code",
   "source": [
    "import random\n",
    "random.seed(12)"
   ],
   "metadata": {
    "id": "gbYQanflVkXt"
   },
   "execution_count": 18,
   "outputs": []
  },
  {
   "cell_type": "markdown",
   "source": [
    "Check if everything is correct"
   ],
   "metadata": {
    "id": "ulVOhX6_WKzW"
   }
  },
  {
   "cell_type": "markdown",
   "source": [
    "## Ours"
   ],
   "metadata": {
    "id": "PcNDWiSX9Vnx"
   }
  },
  {
   "cell_type": "code",
   "source": [
    "#Set parameters\n",
    "min_narr_per_clip = 11  # min number of narrations per clip\n",
    "max_narr_per_clip = 14 # man number of narrations per clip\n",
    "filter_max_clips = 1   # max used number of clips per video\n",
    "\n",
    "beta_dict = {}\n",
    "\n",
    "\n",
    "metadata_clips_as_dict = metadata.get(\"clips\")\n",
    "big_dictionary = {\"videos\":[]}\n",
    "\n",
    "for video_uid in narration:\n",
    "  # Skip videos not in common_files\n",
    "  if video_uid not in common_files:\n",
    "    continue\n",
    "\n",
    "  # get clips for this video\n",
    "  metadata_clips = [item for item in metadata_clips_as_dict if item.get(\"video_uid\") == video_uid]\n",
    "  if len(metadata_clips) == 0:\n",
    "    continue\n",
    "\n",
    "  list_of_clips = []\n",
    "  # here we filter out how many clips we are going to use, starting from the first clip\n",
    "  for clip in metadata_clips[0:filter_max_clips]:\n",
    "    dic_with_metadata = {\n",
    "        \"clip_uid\" : clip[\"clip_uid\"],\n",
    "        \"video_start_sec\" : clip[\"video_start_sec\"],\n",
    "        \"video_end_sec\" : clip[\"video_end_sec\"],\n",
    "        \"annotations\":[]\n",
    "    }\n",
    "\n",
    "    video = narration[video_uid]\n",
    "    if not video:\n",
    "      continue\n",
    "    narrator_1 = video.get(\"narration_pass_1\")\n",
    "    if not narrator_1:\n",
    "      continue\n",
    "    narrations_for_vid = (narrator_1.get(\"narrations\"))\n",
    "    if len(narrations_for_vid) < 3: # we directly skip these narrations\n",
    "      continue\n",
    "\n",
    "    # Generate a random number corresponding to the count of narrations for the current clip, for example 12\n",
    "    number_of_narrations = random.randint(min_narr_per_clip, max_narr_per_clip)\n",
    "\n",
    "    # Get all narrations for the current clip in the correct format\n",
    "    narrations_for_clip = get_narrations_for_current_clip(clip[\"video_start_sec\"], clip[\"video_end_sec\"], narrations_for_vid)\n",
    "\n",
    "\n",
    "    # if the number of narrations available is less or equal to the wanted number, just use all available narrations for the clip\n",
    "    if len(narrations_for_clip) <= number_of_narrations:\n",
    "      language_queries = narrations_for_clip\n",
    "    # else select a random consecutive subset of the narrations\n",
    "    else:\n",
    "      #position = random.randint(0, len(narrations_for_clip) - number_of_narrations +1)\n",
    "      #language_queries = narrations_for_clip[position:position +number_of_narrations]\n",
    "      language_queries = select_random_queries(narrations_for_clip, number_of_narrations)\n",
    "\n",
    "    if len(language_queries) < 1:\n",
    "      continue\n",
    "\n",
    "    # save beta for the clip\n",
    "    beta_dict[clip[\"clip_uid\"]] = (clip[\"video_end_sec\"]-clip[\"video_start_sec\"])/len(narrations_for_clip)\n",
    "\n",
    "    annotation_uid = narrations_for_vid[0][\"annotation_uid\"]\n",
    "    dic_with_metadata[\"annotations\"].append({\n",
    "        \"language_queries\":language_queries,\n",
    "        \"annotation_uid\":annotation_uid\n",
    "        })\n",
    "\n",
    "\n",
    "    list_of_clips.append(dic_with_metadata)\n",
    "\n",
    "  # Append video to final dictionary if it has valid clips\n",
    "  if len(list_of_clips) != 0:\n",
    "    ids_dictionary = {\n",
    "        \"video_uid\" : video_uid,\n",
    "        \"clips\": list_of_clips\n",
    "    }\n",
    "    big_dictionary[\"videos\"].append(ids_dictionary)\n",
    "\n",
    "# we are shuffling the clips so that when we start to generate narrations using\n",
    "# LLMs, the order will be random\n",
    "random.shuffle(big_dictionary[\"videos\"])\n",
    "\n",
    "print(\"Total number of videos:\", len(big_dictionary[\"videos\"]))"
   ],
   "metadata": {
    "colab": {
     "base_uri": "https://localhost:8080/"
    },
    "id": "MO6awPV_IQjB",
    "outputId": "49cd8d8d-2a96-4d66-f5f0-30decea3dd26"
   },
   "execution_count": 19,
   "outputs": [
    {
     "output_type": "stream",
     "name": "stdout",
     "text": [
      "Total number of videos: 2281\n"
     ]
    }
   ]
  },
  {
   "cell_type": "code",
   "source": [
    "print(list(beta_dict.values()).count(0))\n",
    "print(len(beta_dict))"
   ],
   "metadata": {
    "colab": {
     "base_uri": "https://localhost:8080/"
    },
    "id": "pRrixJdjHK1q",
    "outputId": "a59d77b9-698b-4dfc-a0fb-0e17431b62f5"
   },
   "execution_count": 20,
   "outputs": [
    {
     "output_type": "stream",
     "name": "stdout",
     "text": [
      "0\n",
      "2281\n"
     ]
    }
   ]
  },
  {
   "cell_type": "code",
   "source": [
    "duration_of_narrs_ours = []\n",
    "for vid in big_dictionary[\"videos\"]:\n",
    "    for clip in vid[\"clips\"]:\n",
    "        for ann in clip[\"annotations\"]:\n",
    "            for query in ann[\"language_queries\"]:\n",
    "              start = query['clip_start_sec']\n",
    "              end = query['clip_end_sec']\n",
    "              duration_of_narrs_ours.append(end-start)\n",
    "\n",
    "\n",
    "\n",
    "# Plot histogram\n",
    "plt.figure(figsize=(12, 6))\n",
    "plt.hist(duration_of_narrs_ours, bins=30, edgecolor='k')\n",
    "plt.xlabel(\"Length of 'query' is seconds\")\n",
    "plt.ylabel('Frequency')\n",
    "plt.title('Distribution of the length of the queries in Ours')\n",
    "plt.show()\n",
    "\n",
    "print(\"mean:\", np.mean(duration_of_narrs_ours))\n",
    "print(\"std:\", np.std(duration_of_narrs_ours))"
   ],
   "metadata": {
    "colab": {
     "base_uri": "https://localhost:8080/",
     "height": 599
    },
    "id": "ihkzR-gPxLrL",
    "outputId": "fdedec12-f61d-4774-f8d4-2b95edfc4541"
   },
   "execution_count": 21,
   "outputs": [
    {
     "output_type": "display_data",
     "data": {
      "text/plain": [
       "<Figure size 1200x600 with 1 Axes>"
      ],
      "image/png": "[encoded data removed]"
     },
     "metadata": {}
    },
    {
     "output_type": "stream",
     "name": "stdout",
     "text": [
      "mean: 7.008232349399628\n",
      "std: 17.12693865251517\n"
     ]
    }
   ]
  },
  {
   "cell_type": "code",
   "source": [
    "alpha = float(np.mean(list((beta_dict.values()))))\n",
    "print(alpha)"
   ],
   "metadata": {
    "colab": {
     "base_uri": "https://localhost:8080/"
    },
    "id": "TYNjPjXWY0hF",
    "outputId": "3b49a446-7383-46da-bdc0-31f3943dba41"
   },
   "execution_count": 22,
   "outputs": [
    {
     "output_type": "stream",
     "name": "stdout",
     "text": [
      "13.13970961363892\n"
     ]
    }
   ]
  },
  {
   "cell_type": "code",
   "source": [
    "# Save the modified dictionary back to the JSON file\n",
    "with open('ours.json', 'w') as file:\n",
    "    json.dump(big_dictionary, file, indent=4)"
   ],
   "metadata": {
    "id": "DNc2RxN-R7M0"
   },
   "execution_count": 23,
   "outputs": []
  },
  {
   "cell_type": "markdown",
   "source": [
    "## VLP"
   ],
   "metadata": {
    "id": "xLQ75BPi_PoT"
   }
  },
  {
   "cell_type": "code",
   "source": [
    "import copy"
   ],
   "metadata": {
    "id": "kETFzDoYYWFn"
   },
   "execution_count": 25,
   "outputs": []
  },
  {
   "cell_type": "code",
   "source": [
    "big_dictionary_vlp = copy.deepcopy(big_dictionary)\n",
    "\n",
    "duration_of_narrs_vlp = []\n",
    "\n",
    "for vid in big_dictionary_vlp[\"videos\"]:\n",
    "    for clip in vid[\"clips\"]:\n",
    "        beta = beta_dict[clip[\"clip_uid\"]]\n",
    "        duration = clip[\"video_end_sec\"] - clip[\"video_start_sec\"]\n",
    "        for ann in clip[\"annotations\"]:\n",
    "            for query in ann[\"language_queries\"]:\n",
    "              timestamp = query['clip_start_sec']\n",
    "              temp = beta/(2*alpha)\n",
    "\n",
    "              start = max(0.0, timestamp - temp)\n",
    "              end = min(timestamp + temp, duration)\n",
    "\n",
    "              query['clip_start_sec'] = start\n",
    "              query['clip_end_sec'] = end\n",
    "\n",
    "              duration_of_narrs_vlp.append(end-start)\n"
   ],
   "metadata": {
    "id": "9v9MGZ11yyxI"
   },
   "execution_count": 26,
   "outputs": []
  },
  {
   "cell_type": "code",
   "source": [
    "# Saving\n",
    "with open('vlp.json', 'w') as file:\n",
    "    json.dump(big_dictionary_vlp, file, indent=4)"
   ],
   "metadata": {
    "id": "WfupX_Vy_aZ8"
   },
   "execution_count": 27,
   "outputs": []
  },
  {
   "cell_type": "markdown",
   "source": [
    "## NaQ"
   ],
   "metadata": {
    "id": "AN3wiR5u_jYV"
   }
  },
  {
   "cell_type": "code",
   "source": [
    "big_dictionary_naq = copy.deepcopy(big_dictionary)\n",
    "\n",
    "expansion_factor = 28.2\n",
    "duration_of_narrs_naq = []\n",
    "big_deltas = []\n",
    "for vid in big_dictionary_naq[\"videos\"]:\n",
    "    for clip in vid[\"clips\"]:\n",
    "        beta = beta_dict[clip[\"clip_uid\"]]\n",
    "        duration_of_clip = clip[\"video_end_sec\"] - clip[\"video_start_sec\"]\n",
    "        for ann in clip[\"annotations\"]:\n",
    "            for query in ann[\"language_queries\"]:\n",
    "\n",
    "              timestamp = query['clip_start_sec']\n",
    "              temp = beta/(2*alpha)\n",
    "              big_deltas.append(temp)\n",
    "              temp = temp*random.uniform(1, expansion_factor)\n",
    "\n",
    "              start = max(0.0, timestamp - temp)\n",
    "              end = min(timestamp + temp, duration_of_clip)\n",
    "\n",
    "              query['clip_start_sec'] = start\n",
    "              query['clip_end_sec'] = end\n",
    "\n",
    "              duration_of_narrs_naq.append(end-start)\n"
   ],
   "metadata": {
    "id": "ygoNYNA8YkO9"
   },
   "execution_count": 48,
   "outputs": []
  },
  {
   "cell_type": "code",
   "source": [
    "# Plot histogram\n",
    "plt.figure(figsize=(12, 6))\n",
    "plt.hist(duration_of_narrs_naq, bins=30, edgecolor='k')\n",
    "plt.xlabel(\"Length of 'query' is seconds\")\n",
    "plt.ylabel('Frequency')\n",
    "plt.title('Distribution of the length of the queries in simplified NaQ')\n",
    "plt.show()\n",
    "\n",
    "print(\"mean:\", np.mean(duration_of_narrs_naq))\n",
    "print(\"std:\", np.std(duration_of_narrs_naq))"
   ],
   "metadata": {
    "colab": {
     "base_uri": "https://localhost:8080/",
     "height": 599
    },
    "id": "VIrFcrVMcD7s",
    "outputId": "d70fd348-280b-4772-e7a6-a27cb17dcc17"
   },
   "execution_count": 49,
   "outputs": [
    {
     "output_type": "display_data",
     "data": {
      "text/plain": [
       "<Figure size 1200x600 with 1 Axes>"
      ],
      "image/png": "[encoded data removed]"
     },
     "metadata": {}
    },
    {
     "output_type": "stream",
     "name": "stdout",
     "text": [
      "mean: 8.996576922531842\n",
      "std: 12.956031128549919\n"
     ]
    }
   ]
  },
  {
   "cell_type": "code",
   "source": [
    "q = 0\n",
    "\n",
    "for vid in big_dictionary_naq[\"videos\"]:\n",
    "    for clip in vid[\"clips\"]:\n",
    "        for ann in clip[\"annotations\"]:\n",
    "            for query in ann[\"language_queries\"]:\n",
    "\n",
    "                T = (expansion_factor -1) * big_deltas[q]\n",
    "                q = q+1\n",
    "                delta = random.uniform(-T, T)\n",
    "\n",
    "                query[\"clip_start_sec\"] = query[\"clip_start_sec\"] - delta\n",
    "                query[\"clip_end_sec\"] = query[\"clip_end_sec\"] - delta\n",
    "\n",
    "\n"
   ],
   "metadata": {
    "id": "AcapSWGsQQyT"
   },
   "execution_count": 50,
   "outputs": []
  },
  {
   "cell_type": "code",
   "source": [
    "# Save the modified dictionary back to the JSON file\n",
    "with open('naq.json', 'w') as file:\n",
    "    json.dump(big_dictionary_naq, file, indent=4)"
   ],
   "metadata": {
    "id": "v47UanZ8awQZ"
   },
   "execution_count": null,
   "outputs": []
  },
  {
   "cell_type": "markdown",
   "source": [
    "## Ours_expanded"
   ],
   "metadata": {
    "id": "T4Gs1jsXATvG"
   }
  },
  {
   "cell_type": "code",
   "source": [
    "import copy\n",
    "\n",
    "big_dictionary_expanded = copy.deepcopy(big_dictionary)\n",
    "\n",
    "expansion_factor = 1.56\n",
    "duration_of_narrs_ours_expanded = []\n",
    "\n",
    "\n",
    "for vid in big_dictionary_expanded[\"videos\"]:\n",
    "    for clip in vid[\"clips\"]:\n",
    "        duration = clip[\"video_end_sec\"] - clip[\"video_start_sec\"]\n",
    "        for ann in clip[\"annotations\"]:\n",
    "            for query in ann[\"language_queries\"]:\n",
    "              temp = (query[\"clip_end_sec\"] - query[\"clip_start_sec\"])/2\n",
    "              center = query['clip_start_sec'] + temp\n",
    "              temp = temp*random.uniform(1, expansion_factor)\n",
    "\n",
    "              start = max(0.0, center - temp)\n",
    "              end = min(center + temp, duration)\n",
    "\n",
    "              query['clip_start_sec'] = start\n",
    "              query['clip_end_sec'] = end\n",
    "\n",
    "              duration_of_narrs_ours_expanded.append(end-start)\n"
   ],
   "metadata": {
    "id": "BDLjAerGc7h2"
   },
   "execution_count": null,
   "outputs": []
  },
  {
   "cell_type": "code",
   "source": [
    "# Plot histogram\n",
    "plt.figure(figsize=(12, 6))\n",
    "plt.hist(duration_of_narrs_ours_expanded, bins=30, edgecolor='k')\n",
    "plt.xlabel(\"Length of 'query' is seconds\")\n",
    "plt.ylabel('Frequency')\n",
    "plt.title('Distribution of the length of the queries in Ours_expanded')\n",
    "plt.show()\n",
    "\n",
    "print(\"mean:\", np.mean(duration_of_narrs_ours_expanded))\n",
    "print(\"std:\", np.std(duration_of_narrs_ours_expanded))"
   ],
   "metadata": {
    "colab": {
     "base_uri": "https://localhost:8080/",
     "height": 456
    },
    "id": "ygcag5_ZryKy",
    "outputId": "17a5b8d5-7e75-43d2-9ee4-a1553dabef81"
   },
   "execution_count": null,
   "outputs": [
    {
     "output_type": "display_data",
     "data": {
      "text/plain": [
       "<Figure size 1200x600 with 1 Axes>"
      ],
      "image/png": "[encoded data removed]"
     },
     "metadata": {}
    },
    {
     "output_type": "stream",
     "name": "stdout",
     "text": [
      "mean: 9.042965209029601\n",
      "std: 22.09204107248692\n"
     ]
    }
   ]
  },
  {
   "cell_type": "code",
   "source": [
    "# Save the modified dictionary back to the JSON file\n",
    "with open('Ours_expanded.json', 'w') as file:\n",
    "    json.dump(big_dictionary_expanded, file, indent=4)"
   ],
   "metadata": {
    "id": "mtSDTOr-AvSR"
   },
   "execution_count": null,
   "outputs": []
  }
 ],
 "metadata": {
  "colab": {
   "provenance": []
  },
  "kernelspec": {
   "display_name": "Python 3",
   "name": "python3"
  },
  "language_info": {
   "name": "python"
  }
 },
 "nbformat": 4,
 "nbformat_minor": 0
}
