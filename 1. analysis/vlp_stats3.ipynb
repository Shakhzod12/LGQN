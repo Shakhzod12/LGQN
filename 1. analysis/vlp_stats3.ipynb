{
 "cells": [
  {
   "cell_type": "markdown",
   "metadata": {
    "id": "lmoup7_Xsbc4"
   },
   "source": [
    "# Ego4D Moments Benchmark (NLQ) Quickstart\n",
    "\n",
    "Please set your resources to GPU (Runtime -> Change runtime type -> GPU).\n",
    "\n",
    "This quickstart will show:\n",
    "1. An overview of the training data\n",
    "2. How to train the baseline (VSLNet)\n",
    "\n",
    "To begin: add your **access keys** below, change your Runtime Type to **GPU**, and run cells **one by one** as you read through. This helps avoid timeouts since Colab gives more GPU cycles to interactive notebooks.\n",
    "\n",
    "## Resources\n",
    "- [Baseline Repo](https://github.com/EGO4D/episodic-memory/tree/main/NLQ/VSLNet)\n",
    "- [Docs](https://ego4d-data.org/docs/benchmarks/episodic-memory/)\n",
    "- [EvalAI Challenge](https://eval.ai/web/challenges/challenge-page/1629/overview)"
   ]
  },
  {
   "cell_type": "markdown",
   "metadata": {
    "id": "XBsjg8pN0knX"
   },
   "source": [
    "## Download Data and Setup Environment"
   ]
  },
  {
   "cell_type": "markdown",
   "metadata": {
    "id": "FcNVEU5Z8f5p"
   },
   "source": [
    "### **Fill In Your Access Info Here**\n",
    "If you don't have access and secret keys, first sign the Ego4D License at [ego4ddataset.com](https://ego4ddataset.com)"
   ]
  },
  {
   "cell_type": "code",
   "execution_count": null,
   "metadata": {
    "id": "lTSvhBsBvnXy"
   },
   "outputs": [],
   "source": [
    "import os\n",
    "os.environ['AWS_ACCESS_KEY_ID'] = \"\"\n",
    "os.environ['AWS_SECRET_ACCESS_KEY'] = \"\""
   ]
  },
  {
   "cell_type": "markdown",
   "metadata": {
    "id": "WcIg7gNx82Bq"
   },
   "source": [
    "### **Set up CLIs and Download Annotations + Repo**"
   ]
  },
  {
   "cell_type": "code",
   "execution_count": null,
   "metadata": {
    "colab": {
     "base_uri": "https://localhost:8080/"
    },
    "id": "D-D9Jm-l162m",
    "outputId": "afa2ece0-3ea7-4855-a3d6-4b9bbb49e5d9"
   },
   "outputs": [
    {
     "output_type": "stream",
     "name": "stderr",
     "text": [
      "  % Total    % Received % Xferd  Average Speed   Time    Time     Time  Current\n",
      "                                 Dload  Upload   Total   Spent    Left  Speed\n",
      "\r  0     0    0     0    0     0      0      0 --:--:-- --:--:-- --:--:--     0\r  4 57.8M    4 2815k    0     0  8352k      0  0:00:07 --:--:--  0:00:07 8354k\r100 57.8M  100 57.8M    0     0  90.0M      0 --:--:-- --:--:-- --:--:-- 90.0M\n"
     ]
    }
   ],
   "source": [
    "# Download the AWS and Ego4D CLIs, then download the annotations locally\n",
    "%%bash\n",
    "\n",
    "# Set up the AWS CLI\n",
    "curl \"https://awscli.amazonaws.com/awscli-exe-linux-x86_64.zip\" -o \"awscliv2.zip\"\n",
    "unzip -o awscliv2.zip >/dev/null\n",
    "sudo ./aws/install >/dev/null 2>&1\n",
    "aws configure set aws_access_key_id \"$AWS_ACCESS_KEY_ID\" && aws configure set aws_secret_access_key \"$AWS_SECRET_ACCESS_KEY\"\n",
    "rm \"awscliv2.zip\""
   ]
  },
  {
   "cell_type": "markdown",
   "metadata": {
    "id": "5tXEDSW50Ebd"
   },
   "source": [
    "### Install the ego4d CLI and Download Data"
   ]
  },
  {
   "cell_type": "code",
   "execution_count": null,
   "metadata": {
    "colab": {
     "base_uri": "https://localhost:8080/"
    },
    "id": "Jg6Xt1p-On-a",
    "outputId": "8a6233d2-f4f0-46cb-f690-41742d281cf1"
   },
   "outputs": [
    {
     "output_type": "stream",
     "name": "stdout",
     "text": [
      "Collecting ego4d\n",
      "  Downloading ego4d-1.7.3.tar.gz (94 kB)\n",
      "\u001B[2K     \u001B[90m━━━━━━━━━━━━━━━━━━━━━━━━━━━━━━━━━━━━━━━━\u001B[0m \u001B[32m94.5/94.5 kB\u001B[0m \u001B[31m721.5 kB/s\u001B[0m eta \u001B[36m0:00:00\u001B[0m\n",
      "\u001B[?25h  Installing build dependencies ... \u001B[?25l\u001B[?25hdone\n",
      "  Getting requirements to build wheel ... \u001B[?25l\u001B[?25hdone\n",
      "  Preparing metadata (pyproject.toml) ... \u001B[?25l\u001B[?25hdone\n",
      "Collecting boto3 (from ego4d)\n",
      "  Downloading boto3-1.34.122-py3-none-any.whl (139 kB)\n",
      "\u001B[2K     \u001B[90m━━━━━━━━━━━━━━━━━━━━━━━━━━━━━━━━━━━━━━━━\u001B[0m \u001B[32m139.3/139.3 kB\u001B[0m \u001B[31m4.3 MB/s\u001B[0m eta \u001B[36m0:00:00\u001B[0m\n",
      "\u001B[?25hRequirement already satisfied: tqdm in /usr/local/lib/python3.10/dist-packages (from ego4d) (4.66.4)\n",
      "Requirement already satisfied: regex in /usr/local/lib/python3.10/dist-packages (from ego4d) (2024.5.15)\n",
      "Collecting dataclasses-json (from ego4d)\n",
      "  Downloading dataclasses_json-0.6.7-py3-none-any.whl (28 kB)\n",
      "Collecting iopath (from ego4d)\n",
      "  Downloading iopath-0.1.10.tar.gz (42 kB)\n",
      "\u001B[2K     \u001B[90m━━━━━━━━━━━━━━━━━━━━━━━━━━━━━━━━━━━━━━━━\u001B[0m \u001B[32m42.2/42.2 kB\u001B[0m \u001B[31m4.8 MB/s\u001B[0m eta \u001B[36m0:00:00\u001B[0m\n",
      "\u001B[?25h  Preparing metadata (setup.py) ... \u001B[?25l\u001B[?25hdone\n",
      "Collecting botocore<1.35.0,>=1.34.122 (from boto3->ego4d)\n",
      "  Downloading botocore-1.34.122-py3-none-any.whl (12.3 MB)\n",
      "\u001B[2K     \u001B[90m━━━━━━━━━━━━━━━━━━━━━━━━━━━━━━━━━━━━━━━━\u001B[0m \u001B[32m12.3/12.3 MB\u001B[0m \u001B[31m23.6 MB/s\u001B[0m eta \u001B[36m0:00:00\u001B[0m\n",
      "\u001B[?25hCollecting jmespath<2.0.0,>=0.7.1 (from boto3->ego4d)\n",
      "  Downloading jmespath-1.0.1-py3-none-any.whl (20 kB)\n",
      "Collecting s3transfer<0.11.0,>=0.10.0 (from boto3->ego4d)\n",
      "  Downloading s3transfer-0.10.1-py3-none-any.whl (82 kB)\n",
      "\u001B[2K     \u001B[90m━━━━━━━━━━━━━━━━━━━━━━━━━━━━━━━━━━━━━━━━\u001B[0m \u001B[32m82.2/82.2 kB\u001B[0m \u001B[31m8.4 MB/s\u001B[0m eta \u001B[36m0:00:00\u001B[0m\n",
      "\u001B[?25hCollecting marshmallow<4.0.0,>=3.18.0 (from dataclasses-json->ego4d)\n",
      "  Downloading marshmallow-3.21.3-py3-none-any.whl (49 kB)\n",
      "\u001B[2K     \u001B[90m━━━━━━━━━━━━━━━━━━━━━━━━━━━━━━━━━━━━━━━━\u001B[0m \u001B[32m49.2/49.2 kB\u001B[0m \u001B[31m5.5 MB/s\u001B[0m eta \u001B[36m0:00:00\u001B[0m\n",
      "\u001B[?25hCollecting typing-inspect<1,>=0.4.0 (from dataclasses-json->ego4d)\n",
      "  Downloading typing_inspect-0.9.0-py3-none-any.whl (8.8 kB)\n",
      "Requirement already satisfied: typing_extensions in /usr/local/lib/python3.10/dist-packages (from iopath->ego4d) (4.12.1)\n",
      "Collecting portalocker (from iopath->ego4d)\n",
      "  Downloading portalocker-2.8.2-py3-none-any.whl (17 kB)\n",
      "Requirement already satisfied: python-dateutil<3.0.0,>=2.1 in /usr/local/lib/python3.10/dist-packages (from botocore<1.35.0,>=1.34.122->boto3->ego4d) (2.8.2)\n",
      "Requirement already satisfied: urllib3!=2.2.0,<3,>=1.25.4 in /usr/local/lib/python3.10/dist-packages (from botocore<1.35.0,>=1.34.122->boto3->ego4d) (2.0.7)\n",
      "Requirement already satisfied: packaging>=17.0 in /usr/local/lib/python3.10/dist-packages (from marshmallow<4.0.0,>=3.18.0->dataclasses-json->ego4d) (24.0)\n",
      "Collecting mypy-extensions>=0.3.0 (from typing-inspect<1,>=0.4.0->dataclasses-json->ego4d)\n",
      "  Downloading mypy_extensions-1.0.0-py3-none-any.whl (4.7 kB)\n",
      "Requirement already satisfied: six>=1.5 in /usr/local/lib/python3.10/dist-packages (from python-dateutil<3.0.0,>=2.1->botocore<1.35.0,>=1.34.122->boto3->ego4d) (1.16.0)\n",
      "Building wheels for collected packages: ego4d, iopath\n",
      "  Building wheel for ego4d (pyproject.toml) ... \u001B[?25l\u001B[?25hdone\n",
      "  Created wheel for ego4d: filename=ego4d-1.7.3-py3-none-any.whl size=118251 sha256=f14e09539d9e6fd4a079a570814d3f7802610c6a29bf504dac484db300b57b0e\n",
      "  Stored in directory: /root/.cache/pip/wheels/65/a8/89/a6187e3bc9a85e81899ab8d5ddc2011c9954d3b6cb84d47e03\n",
      "  Building wheel for iopath (setup.py) ... \u001B[?25l\u001B[?25hdone\n",
      "  Created wheel for iopath: filename=iopath-0.1.10-py3-none-any.whl size=31532 sha256=150927d6d296341b633cebd67afe271c9dacc9ea3776e728f9abe79b302ad55a\n",
      "  Stored in directory: /root/.cache/pip/wheels/9a/a3/b6/ac0fcd1b4ed5cfeb3db92e6a0e476cfd48ed0df92b91080c1d\n",
      "Successfully built ego4d iopath\n",
      "Installing collected packages: portalocker, mypy-extensions, marshmallow, jmespath, typing-inspect, iopath, botocore, s3transfer, dataclasses-json, boto3, ego4d\n",
      "Successfully installed boto3-1.34.122 botocore-1.34.122 dataclasses-json-0.6.7 ego4d-1.7.3 iopath-0.1.10 jmespath-1.0.1 marshmallow-3.21.3 mypy-extensions-1.0.0 portalocker-2.8.2 s3transfer-0.10.1 typing-inspect-0.9.0\n"
     ]
    }
   ],
   "source": [
    "# Set up the Ego4D CLI\n",
    "!pip install ego4d"
   ]
  },
  {
   "cell_type": "code",
   "execution_count": null,
   "metadata": {
    "colab": {
     "base_uri": "https://localhost:8080/"
    },
    "id": "tcKr9i88KMaa",
    "outputId": "57285572-e4ca-4f4f-99ac-e8c641e54074"
   },
   "outputs": [
    {
     "output_type": "stream",
     "name": "stdout",
     "text": [
      "Datasets to download: {'annotations'}\n",
      "Download Path: /content/ego4d_data/v1\n",
      "Downloading Ego4D metadata json..\n",
      "Ego4D Metadata: /content/ego4d_data/ego4d.json\n",
      "Checking requested datasets and versions...\n",
      "Created download directory for version 'v1' of dataset: 'annotations' at: /content/ego4d_data/v1/annotations\n",
      "Benchmarks specified but ignored without a benchmarks field in manifest.\n",
      "Retrieving object metadata from S3...\n",
      "100% 31/31 [00:00<00:00, 1206.11object/s]\n",
      "Checking if latest file versions are already downloaded...\n",
      "  0% 0/31 [00:00<?, ?file/s]WARNING:urllib3.connectionpool:Connection pool is full, discarding connection: ego4d-consortium-sharing.s3.us-west-1.amazonaws.com. Connection pool size: 10\n",
      " 32% 10/31 [00:00<00:01, 18.38file/s]WARNING:urllib3.connectionpool:Connection pool is full, discarding connection: ego4d-consortium-sharing.s3.us-west-1.amazonaws.com. Connection pool size: 10\n",
      "WARNING:urllib3.connectionpool:Connection pool is full, discarding connection: ego4d-consortium-sharing.s3.us-west-1.amazonaws.com. Connection pool size: 10\n",
      "WARNING:urllib3.connectionpool:Connection pool is full, discarding connection: ego4d-consortium-sharing.s3.us-west-1.amazonaws.com. Connection pool size: 10\n",
      "WARNING:urllib3.connectionpool:Connection pool is full, discarding connection: ego4d-consortium-sharing.s3.us-west-1.amazonaws.com. Connection pool size: 10\n",
      "100% 31/31 [00:00<00:00, 53.46file/s]\n",
      "No existing videos to filter.\n",
      "Downloading 31 files..\n",
      "100% 2.50G/2.51G [00:31<00:00, 134MiB/s]Checking file integrity...\n",
      "100% 2.51G/2.51G [00:31<00:00, 85.9MiB/s]\n"
     ]
    }
   ],
   "source": [
    "# Download the Ego4D Annotations to ego4d_data/\n",
    "!ego4d --output_directory=\"/content/ego4d_data/\" --datasets annotations --benchmarks nlq -y --version v1"
   ]
  },
  {
   "cell_type": "markdown",
   "metadata": {
    "id": "hRGXn0q1sb06"
   },
   "source": [
    "# Install vlp features"
   ]
  },
  {
   "cell_type": "code",
   "source": [
    "!mkdir /content/ego4d_data/v1/egovlp_fp16/"
   ],
   "metadata": {
    "id": "91dLnDJACw3d"
   },
   "execution_count": null,
   "outputs": []
  },
  {
   "cell_type": "code",
   "execution_count": null,
   "metadata": {
    "colab": {
     "base_uri": "https://localhost:8080/"
    },
    "id": "sH3kOUr5sbCE",
    "outputId": "1023f351-438f-4fe9-98f7-43e68b288dc7"
   },
   "outputs": [
    {
     "output_type": "stream",
     "name": "stdout",
     "text": [
      "Mounted at /content/drive\n"
     ]
    }
   ],
   "source": [
    "from google.colab import drive\n",
    "import shutil\n",
    "import tarfile\n",
    "import os\n",
    "\n",
    "drive.mount('/content/drive')\n",
    "\n",
    "# Copy the file from Google Drive\n",
    "file_path = '/content/drive/My Drive/egovlp_fp16.tar.gz'  # Replace with your file path in Google Drive\n",
    "destination = '/content/ego4d_data/v1/egovlp_fp16/egovlp_fp16.tar.gz'\n",
    "\n",
    "shutil.copy(file_path, destination)\n",
    "\n",
    "tar = tarfile.open(destination, \"r\")\n",
    "tar.extractall(path=\"/content/ego4d_data/v1/egovlp_fp16\")\n",
    "tar.close()\n",
    "\n",
    "os.remove(destination)\n"
   ]
  },
  {
   "cell_type": "markdown",
   "metadata": {
    "id": "mBPJoyYD2D7w"
   },
   "source": [
    "### Check Downloaded Files"
   ]
  },
  {
   "cell_type": "code",
   "execution_count": null,
   "metadata": {
    "id": "SS0ADqVR1tkB",
    "colab": {
     "base_uri": "https://localhost:8080/"
    },
    "outputId": "3907daa2-45be-46a2-b178-d62fc96d979e"
   },
   "outputs": [
    {
     "output_type": "stream",
     "name": "stdout",
     "text": [
      "nlq_test_unannotated.json\n",
      "nlq_train.json\n",
      "nlq_val.json\n"
     ]
    }
   ],
   "source": [
    "# Ensure we have downloaded the files correctly\n",
    "!ls /content/ego4d_data/v1/annotations | grep nlq"
   ]
  },
  {
   "cell_type": "code",
   "source": [
    "!ls /content/ego4d_data/v1/egovlp_fp16 | wc -l"
   ],
   "metadata": {
    "colab": {
     "base_uri": "https://localhost:8080/"
    },
    "id": "uoeeK0mSASin",
    "outputId": "1756d7fb-482a-45c0-c128-8cf6a5f16259"
   },
   "execution_count": null,
   "outputs": [
    {
     "output_type": "stream",
     "name": "stdout",
     "text": [
      "9611\n"
     ]
    }
   ]
  },
  {
   "cell_type": "markdown",
   "metadata": {
    "id": "wE4fDxQk1KAm"
   },
   "source": [
    "### Clone the Episodic Memory Baseline Repository"
   ]
  },
  {
   "cell_type": "code",
   "execution_count": null,
   "metadata": {
    "colab": {
     "base_uri": "https://localhost:8080/"
    },
    "id": "zApdimh4TQdm",
    "outputId": "2cc4c9f8-e59e-47b5-fd48-0da3f8f9dd4b"
   },
   "outputs": [
    {
     "output_type": "stream",
     "name": "stdout",
     "text": [
      "Already up to date.\n"
     ]
    },
    {
     "output_type": "stream",
     "name": "stderr",
     "text": [
      "Cloning into 'episodic-memory'...\n"
     ]
    }
   ],
   "source": [
    "# Original repo: https://github.com/EGO4D/episodic-memory\n",
    "# Deleted line: git checkout nlq_fixes_and_fp16_support\n",
    "%%bash\n",
    "git clone https://github.com/uzunov02/episodic-memory\n",
    "cd episodic-memory\n",
    "git pull\n"
   ]
  },
  {
   "cell_type": "code",
   "execution_count": null,
   "metadata": {
    "id": "iFlDW-waudWK"
   },
   "outputs": [],
   "source": [
    "# !rm -rf episodic-memory/"
   ]
  },
  {
   "cell_type": "markdown",
   "metadata": {
    "id": "0lenDRgBjWVg"
   },
   "source": [
    "# Stats for nlq_train"
   ]
  },
  {
   "cell_type": "code",
   "execution_count": null,
   "metadata": {
    "id": "1lg3GlF2q5DS"
   },
   "outputs": [],
   "source": [
    "import json\n",
    "import numpy as np\n",
    "import matplotlib.pyplot as plt\n",
    "%matplotlib inline"
   ]
  },
  {
   "cell_type": "code",
   "execution_count": null,
   "metadata": {
    "id": "_r64o6AajXe3"
   },
   "outputs": [],
   "source": [
    "ann_data = json.load(open(\"/content/ego4d_data/v1/annotations/nlq_train.json\"))"
   ]
  },
  {
   "cell_type": "code",
   "source": [
    "# # please see https://ego4d-data.org/docs/data/annotations-schemas/\n",
    "# anns = []\n",
    "# for vid in ann_data[\"videos\"]:\n",
    "#     for clip in vid[\"clips\"]:\n",
    "#         for ann in clip[\"annotations\"]:\n",
    "#             for query in ann[\"language_queries\"]:\n",
    "#                 anns.append({\n",
    "#                     \"query_start_time_sec\": clip[\"video_start_sec\"],\n",
    "#                     \"query_end_time_sec\": clip[\"video_end_sec\"],\n",
    "#                     \"query_response_start_time_sec\": query[\"video_start_sec\"],\n",
    "#                     \"query_response_end_time_sec\": query[\"video_end_sec\"],\n",
    "#                     \"query_template\": query.get(\"template\", None),\n",
    "#                     \"query\": query.get(\"query\", None),\n",
    "#                 })"
   ],
   "metadata": {
    "id": "vTbuheh4KtjM"
   },
   "execution_count": null,
   "outputs": []
  },
  {
   "cell_type": "code",
   "execution_count": null,
   "metadata": {
    "id": "3gaf-Ly0pDpf"
   },
   "outputs": [],
   "source": [
    "# please see https://ego4d-data.org/docs/data/annotations-schemas/\n",
    "number_of_queries_per_video = []\n",
    "number_of_queries_per_clip = []\n",
    "number_of_queries_per_annotation = []\n",
    "anns = []\n",
    "for vid in ann_data[\"videos\"]:\n",
    "\n",
    "    number_of_queries_v = 0\n",
    "    for clip in vid[\"clips\"]:\n",
    "\n",
    "        number_of_queries_c = 0\n",
    "        for ann in clip[\"annotations\"]:\n",
    "\n",
    "            num_of_q_ann = 0\n",
    "            for query in ann[\"language_queries\"]:\n",
    "                anns.append({\n",
    "                    \"query_start_time_sec\": clip[\"video_start_sec\"],\n",
    "                    \"query_end_time_sec\": clip[\"video_end_sec\"],\n",
    "                    \"query_response_start_time_sec\": query[\"video_start_sec\"],\n",
    "                    \"query_response_end_time_sec\": query[\"video_end_sec\"],\n",
    "                    \"query_template\": query.get(\"template\", None),\n",
    "                    \"query\": query.get(\"query\", None),\n",
    "                })\n",
    "                num_of_q_ann = num_of_q_ann +1\n",
    "                number_of_queries_c = number_of_queries_c +1\n",
    "                number_of_queries_v = number_of_queries_v +1\n",
    "            number_of_queries_per_annotation.append(num_of_q_ann)\n",
    "        number_of_queries_per_clip.append(number_of_queries_c)\n",
    "    number_of_queries_per_video.append(number_of_queries_v)"
   ]
  },
  {
   "cell_type": "code",
   "source": [
    "print(\"Total number of videos:\", len(number_of_queries_per_video))\n",
    "print(\"Total number of clips:\", len(number_of_queries_per_clip))\n",
    "print(\"Total number of annotations:\", len(number_of_queries_per_annotation))\n",
    "print(\"Total number of queries:\", len(anns))"
   ],
   "metadata": {
    "colab": {
     "base_uri": "https://localhost:8080/"
    },
    "id": "Kj6UEyIL4-XA",
    "outputId": "be5a6483-ce39-4d6b-b205-8f8dc8775002"
   },
   "execution_count": null,
   "outputs": [
    {
     "output_type": "stream",
     "name": "stdout",
     "text": [
      "Total number of videos: 754\n",
      "Total number of clips: 998\n",
      "Total number of annotations: 1616\n",
      "Total number of queries: 11296\n"
     ]
    }
   ]
  },
  {
   "cell_type": "code",
   "source": [
    "import numpy as np\n",
    "\n",
    "plt.rcParams[\"figure.figsize\"] = (16, 9)\n",
    "plt.hist(number_of_queries_per_video, density=True, bins = len(set(number_of_queries_per_video)))\n",
    "plt.title(\"number of queries per video\")\n",
    "plt.show()\n",
    "print(\"Average queries per video:\", np.mean(number_of_queries_per_video))\n",
    "print(\"Number of videos with 0 queries:\", number_of_queries_per_video.count(0))"
   ],
   "metadata": {
    "colab": {
     "base_uri": "https://localhost:8080/",
     "height": 811
    },
    "id": "IwKM_jf5K1Et",
    "outputId": "316eb0d2-7768-40e6-a369-7c92c9888adc"
   },
   "execution_count": null,
   "outputs": [
    {
     "output_type": "display_data",
     "data": {
      "text/plain": [
       "<Figure size 1600x900 with 1 Axes>"
      ],
      "image/png": "[encoded data removed]"
     },
     "metadata": {}
    },
    {
     "output_type": "stream",
     "name": "stdout",
     "text": [
      "Average queries per video: 14.981432360742705\n",
      "Number of videos with 0 queries: 9\n"
     ]
    }
   ]
  },
  {
   "cell_type": "code",
   "source": [
    "plt.rcParams[\"figure.figsize\"] = (3, 8)\n",
    "\n",
    "plt.boxplot(number_of_queries_per_video)"
   ],
   "metadata": {
    "colab": {
     "base_uri": "https://localhost:8080/",
     "height": 815
    },
    "id": "nf_qMXs0bT52",
    "outputId": "22a2c2ca-d5b1-46d9-bbb6-c139b83c12f9"
   },
   "execution_count": null,
   "outputs": [
    {
     "output_type": "execute_result",
     "data": {
      "text/plain": [
       "{'whiskers': [<matplotlib.lines.Line2D at 0x7def34597d90>,\n",
       "  <matplotlib.lines.Line2D at 0x7def341dc8b0>],\n",
       " 'caps': [<matplotlib.lines.Line2D at 0x7def34314df0>,\n",
       "  <matplotlib.lines.Line2D at 0x7def35379c60>],\n",
       " 'boxes': [<matplotlib.lines.Line2D at 0x7def34594850>],\n",
       " 'medians': [<matplotlib.lines.Line2D at 0x7def3537bbe0>],\n",
       " 'fliers': [<matplotlib.lines.Line2D at 0x7def3537ae60>],\n",
       " 'means': []}"
      ]
     },
     "metadata": {},
     "execution_count": 25
    },
    {
     "output_type": "display_data",
     "data": {
      "text/plain": [
       "<Figure size 300x800 with 1 Axes>"
      ],
      "image/png": "[encoded data removed]"
     },
     "metadata": {}
    }
   ]
  },
  {
   "cell_type": "code",
   "source": [
    "print(\"25th Percentile (Q1):\", np.percentile(number_of_queries_per_video, 25))\n",
    "print(\"75th Percentile (Q3):\", np.percentile(number_of_queries_per_video, 75))"
   ],
   "metadata": {
    "colab": {
     "base_uri": "https://localhost:8080/"
    },
    "id": "t5sRlusx5vMe",
    "outputId": "dc7d46df-8df1-4b99-8321-929dbbb8489d"
   },
   "execution_count": null,
   "outputs": [
    {
     "output_type": "stream",
     "name": "stdout",
     "text": [
      "25th Percentile (Q1): 7.0\n",
      "75th Percentile (Q3): 16.0\n"
     ]
    }
   ]
  },
  {
   "cell_type": "markdown",
   "source": [
    "**We notice that there are 7-16 narrations per video on average. We can make a randomizer to pick a random value between 7 and 16 - how many narrations per video (one clip only).**\n"
   ],
   "metadata": {
    "id": "xMEAXkOyb4Pt"
   }
  },
  {
   "cell_type": "code",
   "source": [
    "plt.rcParams[\"figure.figsize\"] = (16, 9)\n",
    "plt.hist(number_of_queries_per_clip, density=True, bins = len(set(number_of_queries_per_clip)))\n",
    "plt.title(\"number of queries per clip\")\n",
    "plt.show()\n",
    "print(\"Average queries per clip:\", np.mean(number_of_queries_per_clip))\n",
    "print(\"Number of clips with 0 queries:\", number_of_queries_per_clip.count(0))"
   ],
   "metadata": {
    "colab": {
     "base_uri": "https://localhost:8080/",
     "height": 811
    },
    "id": "0u2B-Zvw4T2p",
    "outputId": "f198b760-8387-424f-c8d6-5835812bd8de"
   },
   "execution_count": null,
   "outputs": [
    {
     "output_type": "display_data",
     "data": {
      "text/plain": [
       "<Figure size 1600x900 with 1 Axes>"
      ],
      "image/png": "[encoded data removed]"
     },
     "metadata": {}
    },
    {
     "output_type": "stream",
     "name": "stdout",
     "text": [
      "Average queries per clip: 11.318637274549099\n",
      "Number of clips with 0 queries: 0\n"
     ]
    }
   ]
  },
  {
   "cell_type": "code",
   "source": [
    "plt.rcParams[\"figure.figsize\"] = (3, 8)\n",
    "\n",
    "plt.boxplot(number_of_queries_per_clip)\n",
    "plt.title(\"Boxplot clip\")"
   ],
   "metadata": {
    "colab": {
     "base_uri": "https://localhost:8080/",
     "height": 716
    },
    "id": "VqkZ6c-96oo6",
    "outputId": "d9efbee3-f251-4996-a34d-ab9deb307609"
   },
   "execution_count": null,
   "outputs": [
    {
     "output_type": "execute_result",
     "data": {
      "text/plain": [
       "Text(0.5, 1.0, 'Boxplot clip')"
      ]
     },
     "metadata": {},
     "execution_count": 29
    },
    {
     "output_type": "display_data",
     "data": {
      "text/plain": [
       "<Figure size 300x800 with 1 Axes>"
      ],
      "image/png": "[encoded data removed]"
     },
     "metadata": {}
    }
   ]
  },
  {
   "cell_type": "code",
   "source": [
    "print(\"25th Percentile (Q1):\", np.percentile(number_of_queries_per_clip, 25))\n",
    "print(\"50th Percentile (Q2):\", np.percentile(number_of_queries_per_clip, 50))\n",
    "print(\"75th Percentile (Q3):\", np.percentile(number_of_queries_per_clip, 75))"
   ],
   "metadata": {
    "colab": {
     "base_uri": "https://localhost:8080/"
    },
    "id": "y2_XDYq1630L",
    "outputId": "4c453ec2-78a7-4b7c-8185-54d7943b47d8"
   },
   "execution_count": null,
   "outputs": [
    {
     "output_type": "stream",
     "name": "stdout",
     "text": [
      "25th Percentile (Q1): 6.0\n",
      "50th Percentile (Q2): 12.0\n",
      "75th Percentile (Q3): 15.0\n"
     ]
    }
   ]
  },
  {
   "cell_type": "code",
   "source": [
    "plt.hist(number_of_queries_per_annotation, density=True, bins = len(set(number_of_queries_per_annotation)))\n",
    "plt.title(\"number of queries per annotation\")\n",
    "plt.show()\n",
    "print(\"Average queries per annotation:\", np.mean(number_of_queries_per_annotation))\n",
    "print(\"Number of annotations with 0 queries:\", number_of_queries_per_annotation.count(0))"
   ],
   "metadata": {
    "colab": {
     "base_uri": "https://localhost:8080/",
     "height": 811
    },
    "id": "hjZjYBVkLbZG",
    "outputId": "ecd4d664-9f74-45f5-add5-32957c1e240e"
   },
   "execution_count": null,
   "outputs": [
    {
     "output_type": "display_data",
     "data": {
      "text/plain": [
       "<Figure size 1600x900 with 1 Axes>"
      ],
      "image/png": "[encoded data removed]"
     },
     "metadata": {}
    },
    {
     "output_type": "stream",
     "name": "stdout",
     "text": [
      "Average queries per annotation: 6.99009900990099\n",
      "Number of annotations with 0 queries: 0\n"
     ]
    }
   ]
  },
  {
   "cell_type": "markdown",
   "source": [
    "We see that the average query count per clip is 11, while the average annotation count is 7. Let's assume that we want to keep the idea and use only 11 (6-15) queries per clip. If our goal is around 25000 queries, we need 22400/11 approximately 2000 clips or around 25% of the clips. I think that we should use a seed and a randomizer, create a dataset with only 25 percent of the data and then later we can always add more 25% to see if by enhancing the dataset, the result gets better or worse\n",
    "\n",
    "\n",
    "\n",
    "\n",
    "**Final idea**: we use between nar_per_clip =  6 and 15 narrations per clip, where we take narrations from different places(for example, if nar_per_clip = 13 once 6 and once 7). We use only one clip per video because we saw that most videos have only one clip in nlq_train and we take around 2000 videos. This way, our nlq_pretrain will be a little bit more than twice bigger than nlq_train. We will use randomizer between 0 and len(videos) and we will keep track of which videos and clips we have used. We will create many versions of nlq_pretrain with for example 500, 1000, 1500, 2000 videos to observe if the performance increases. If yes, we will add more data. We will keep track of which videos we have used so that we don't create queries for the same video twice."
   ],
   "metadata": {
    "id": "veknT6tkMgbL"
   }
  },
  {
   "cell_type": "code",
   "source": [],
   "metadata": {
    "id": "-B_1qt3r6suT"
   },
   "execution_count": null,
   "outputs": []
  },
  {
   "cell_type": "code",
   "source": [
    "# #This is an example of how we can do it\n",
    "\n",
    "# import random\n",
    "\n",
    "# # Set a seed for reproducibility\n",
    "# random.seed(42)\n",
    "\n",
    "# # Generate the first batch of 2000 unique random integers\n",
    "# first_batch = random.sample(range(8001), 2000)\n",
    "\n",
    "# # Generate the second batch ensuring no duplicates with the first batch\n",
    "# second_batch = random.sample([i for i in range(8001) if i not in first_batch], 2000)\n",
    "\n",
    "# print(\"First batch:\", first_batch)\n",
    "# print(\"Second batch:\", second_batch)\n"
   ],
   "metadata": {
    "id": "gqj8XWZFOSOk"
   },
   "execution_count": null,
   "outputs": []
  },
  {
   "cell_type": "code",
   "execution_count": null,
   "metadata": {
    "id": "MjO16XNNqaRb"
   },
   "outputs": [],
   "source": [
    "num_queries = len(anns)\n",
    "relative_query_sizes = np.array([\n",
    "    (a[\"query_response_end_time_sec\"] - a[\"query_response_start_time_sec\"]) / (a[\"query_end_time_sec\"] - a[\"query_start_time_sec\"])\n",
    "    for a in anns\n",
    "])\n",
    "query_sizes = np.array([\n",
    "    (a[\"query_response_end_time_sec\"] - a[\"query_response_start_time_sec\"])\n",
    "    for a in anns\n",
    "])\n",
    "clip_sizes = np.array([\n",
    "    (a[\"query_end_time_sec\"] - a[\"query_start_time_sec\"])\n",
    "    for a in anns\n",
    "])"
   ]
  },
  {
   "cell_type": "markdown",
   "metadata": {
    "id": "fCckfo1SsOvJ"
   },
   "source": [
    "## Query / Response Durations\n",
    "\n",
    "Here we can see that there are some queries with 0s. When training it is reccomended to remove them from the set. For VSLNet you can provide `--remove_empty_queries_from train` to `main.py` (e.g. if you are modifying this codebase)."
   ]
  },
  {
   "cell_type": "code",
   "execution_count": null,
   "metadata": {
    "colab": {
     "base_uri": "https://localhost:8080/"
    },
    "id": "gV5CcoGurjjX",
    "outputId": "7b860869-833a-41c3-caab-840241606efe"
   },
   "outputs": [
    {
     "output_type": "execute_result",
     "data": {
      "text/plain": [
       "(480.0, 0.0, 22.82781402544118)"
      ]
     },
     "metadata": {},
     "execution_count": 36
    }
   ],
   "source": [
    "query_sizes.max(), query_sizes.min(), query_sizes.std()"
   ]
  },
  {
   "cell_type": "code",
   "execution_count": null,
   "metadata": {
    "colab": {
     "base_uri": "https://localhost:8080/"
    },
    "id": "FpnctDcBsnEy",
    "outputId": "9393fd75-273d-4022-cd9e-bcdb4d130519"
   },
   "outputs": [
    {
     "output_type": "execute_result",
     "data": {
      "text/plain": [
       "0.09012039660056657"
      ]
     },
     "metadata": {},
     "execution_count": 37
    }
   ],
   "source": [
    "# less than or equal to 4 frames => 9% of training data\n",
    "(query_sizes <= 4/30).sum() / len(relative_query_sizes)"
   ]
  },
  {
   "cell_type": "markdown",
   "metadata": {
    "id": "SbHI3vJItI6Y"
   },
   "source": [
    "## Distribution of Queries (relative)\n",
    "\n",
    "Here is a histogram plot of the relative query size to the clip size."
   ]
  },
  {
   "cell_type": "code",
   "execution_count": null,
   "metadata": {
    "id": "BVMJOWYUt89N"
   },
   "outputs": [],
   "source": [
    "plt.rcParams[\"figure.figsize\"] = (16, 9)"
   ]
  },
  {
   "cell_type": "code",
   "execution_count": null,
   "metadata": {
    "colab": {
     "base_uri": "https://localhost:8080/",
     "height": 753
    },
    "id": "OLCvNnsHrMoc",
    "outputId": "7c3445ff-5f27-420f-ce0a-ff4b4eb845f4"
   },
   "outputs": [
    {
     "output_type": "display_data",
     "data": {
      "text/plain": [
       "<Figure size 1600x900 with 1 Axes>"
      ],
      "image/png": "[encoded data removed]"
     },
     "metadata": {}
    }
   ],
   "source": [
    "plt.hist(relative_query_sizes[relative_query_sizes < 0.2], density=True, bins=128)\n",
    "plt.show()"
   ]
  },
  {
   "cell_type": "code",
   "execution_count": null,
   "metadata": {
    "colab": {
     "base_uri": "https://localhost:8080/",
     "height": 753
    },
    "id": "Q_fOTeb5r9-a",
    "outputId": "49a99721-7b95-4bf7-96fe-080187fdd58a"
   },
   "outputs": [
    {
     "output_type": "display_data",
     "data": {
      "text/plain": [
       "<Figure size 1600x900 with 1 Axes>"
      ],
      "image/png": "[encoded data removed]"
     },
     "metadata": {}
    }
   ],
   "source": [
    "plt.hist(relative_query_sizes[relative_query_sizes > 0.2], density=True, bins=128)\n",
    "plt.show()"
   ]
  },
  {
   "cell_type": "markdown",
   "metadata": {
    "id": "I-YWfHSiteoC"
   },
   "source": [
    "## Clip Sizes\n",
    "\n",
    "Clips are 522s on average, with most clips being 480s."
   ]
  },
  {
   "cell_type": "code",
   "execution_count": null,
   "metadata": {
    "colab": {
     "base_uri": "https://localhost:8080/"
    },
    "id": "4H-JCUd1th5Y",
    "outputId": "bf1c3351-3e2d-4063-aad4-6f0904382afa"
   },
   "outputs": [
    {
     "output_type": "execute_result",
     "data": {
      "text/plain": [
       "(522.6759852928087,\n",
       " 1200.0666422526042,\n",
       " 207.16666666666674,\n",
       " 197.6377591205408,\n",
       " 480.0)"
      ]
     },
     "metadata": {},
     "execution_count": 41
    }
   ],
   "source": [
    "clip_sizes.mean(), clip_sizes.max(), clip_sizes.min(), clip_sizes.std(), np.median(clip_sizes)"
   ]
  },
  {
   "cell_type": "code",
   "execution_count": null,
   "metadata": {
    "id": "nOe9_BVCtZkV",
    "colab": {
     "base_uri": "https://localhost:8080/",
     "height": 753
    },
    "outputId": "0c0a00da-3834-40fc-80f2-e5579548bcce"
   },
   "outputs": [
    {
     "output_type": "display_data",
     "data": {
      "text/plain": [
       "<Figure size 1600x900 with 1 Axes>"
      ],
      "image/png": "[encoded data removed]"
     },
     "metadata": {}
    }
   ],
   "source": [
    "plt.hist(clip_sizes)\n",
    "plt.show()"
   ]
  },
  {
   "cell_type": "markdown",
   "source": [
    "# Stats for custom dataset"
   ],
   "metadata": {
    "id": "HIfRULsnRP4k"
   }
  },
  {
   "cell_type": "code",
   "source": [
    "metadata = json.load(open(\"/content/ego4d_data/ego4d.json\"))\n",
    "narration = json.load(open(\"/content/ego4d_data/v1/annotations/narration.json\"))\n",
    "nlq_val = json.load(open(\"/content/ego4d_data/v1/annotations/nlq_val.json\"))\n",
    "nlq_train = json.load(open(\"/content/ego4d_data/v1/annotations/nlq_train.json\"))"
   ],
   "metadata": {
    "id": "9jdFohtxRWgC"
   },
   "execution_count": null,
   "outputs": []
  },
  {
   "cell_type": "code",
   "source": [
    "import os\n",
    "\n",
    "# Define the path to the directory\n",
    "directory_path = \"/content/ego4d_data/v1/egovlp_fp16\"\n",
    "\n",
    "# Get the list of all items in the directory\n",
    "all_items = os.listdir(directory_path)\n",
    "\n",
    "# Filter out only the files\n",
    "features_list = [item[:-3] for item in all_items if os.path.isfile(os.path.join(directory_path, item))]\n",
    "\n",
    "# Print the list of file names (optional)\n",
    "print(\"Number of vides that have visual features:\", len(features_list))"
   ],
   "metadata": {
    "colab": {
     "base_uri": "https://localhost:8080/"
    },
    "id": "XKd63_8URWlD",
    "outputId": "68f0d04e-937b-4670-aebd-0ed0c965601b"
   },
   "execution_count": null,
   "outputs": [
    {
     "output_type": "stream",
     "name": "stdout",
     "text": [
      "Number of vides that have visual features: 19222\n"
     ]
    }
   ]
  },
  {
   "cell_type": "code",
   "source": [
    "nlq_val_videos = nlq_val.get(\"videos\")\n",
    "nlq_val_videos_ids= []\n",
    "for item in nlq_val_videos:\n",
    "  nlq_val_videos_ids.append(item[\"video_uid\"])\n",
    "\n",
    "print(len(nlq_val_videos_ids))\n",
    "# of videos included in nql_val\n",
    "\n",
    "nlq_train = json.load(open(\"/content/ego4d_data/v1/annotations/nlq_train.json\"))\n",
    "\n",
    "nlq_train_videos = nlq_train.get(\"videos\")\n",
    "nlq_train_videos_ids= []\n",
    "for item in nlq_train_videos:\n",
    "  nlq_train_videos_ids.append(item[\"video_uid\"])\n",
    "\n",
    "print(len(nlq_train_videos_ids))\n",
    "# of videos included in nql_val"
   ],
   "metadata": {
    "colab": {
     "base_uri": "https://localhost:8080/"
    },
    "id": "Py-DDiFLRWpa",
    "outputId": "9ba5aae0-a632-4021-cc01-ce0faef0f688"
   },
   "execution_count": null,
   "outputs": [
    {
     "output_type": "stream",
     "name": "stdout",
     "text": [
      "247\n",
      "754\n"
     ]
    }
   ]
  },
  {
   "cell_type": "code",
   "source": [
    "metadata_clips = metadata.get(\"clips\")\n",
    "metadata_clips_video_ids = []\n",
    "for item in metadata_clips:\n",
    "  metadata_clips_video_ids.append(item[\"video_uid\"])\n",
    "\n",
    "print(len(metadata_clips_video_ids))\n",
    "# of videos included in metadata"
   ],
   "metadata": {
    "colab": {
     "base_uri": "https://localhost:8080/"
    },
    "id": "MaWZUgACRWss",
    "outputId": "1d252ec7-b412-4ffd-ad73-379f958fabc2"
   },
   "execution_count": null,
   "outputs": [
    {
     "output_type": "stream",
     "name": "stdout",
     "text": [
      "12283\n"
     ]
    }
   ]
  },
  {
   "cell_type": "code",
   "source": [
    "narration_videos = list(narration.keys())\n",
    "print(len(narration_videos))"
   ],
   "metadata": {
    "colab": {
     "base_uri": "https://localhost:8080/"
    },
    "id": "fGNzrBfKRWx_",
    "outputId": "d0974614-5605-4a0b-f170-c3715ca1adb9"
   },
   "execution_count": null,
   "outputs": [
    {
     "output_type": "stream",
     "name": "stdout",
     "text": [
      "9645\n"
     ]
    }
   ]
  },
  {
   "cell_type": "code",
   "source": [
    "excluded_videos = nlq_train_videos_ids + nlq_val_videos\n",
    "\n",
    "allowed_videos = [item for item in narration_videos if item not in excluded_videos]\n",
    "print(len(allowed_videos))"
   ],
   "metadata": {
    "colab": {
     "base_uri": "https://localhost:8080/"
    },
    "id": "729Lcn9jT_-g",
    "outputId": "fb257e86-b85f-454b-b8f8-90e9c7158eec"
   },
   "execution_count": null,
   "outputs": [
    {
     "output_type": "stream",
     "name": "stdout",
     "text": [
      "8891\n"
     ]
    }
   ]
  },
  {
   "cell_type": "code",
   "source": [
    "# Convert the lists to sets\n",
    "set1 = set(features_list)\n",
    "set2 = set(allowed_videos)\n",
    "\n",
    "# Find the intersection of the two sets\n",
    "common_files = set1.intersection(set2)\n",
    "\n",
    "# Get the count of the common files\n",
    "common_files_count = len(common_files)\n",
    "\n",
    "# Print the count\n",
    "print(\"Number of common files:\", common_files_count)"
   ],
   "metadata": {
    "colab": {
     "base_uri": "https://localhost:8080/"
    },
    "id": "-1IPs1PmUCiV",
    "outputId": "a4c37fa0-9533-4f5e-8d49-735a51194e04"
   },
   "execution_count": null,
   "outputs": [
    {
     "output_type": "stream",
     "name": "stdout",
     "text": [
      "Number of common files: 8839\n"
     ]
    }
   ]
  },
  {
   "cell_type": "markdown",
   "source": [
    "Now we create a pseudo nlq_pretrain dataset where instead of creating questions, we directly use the narrations"
   ],
   "metadata": {
    "id": "tGc3DZYIUwvT"
   }
  },
  {
   "cell_type": "code",
   "source": [
    "big_dictionary = {\"videos\":[]}\n",
    "\n",
    "\n",
    "#total 260 MB of data if we use all stuff\n",
    "counter = 0\n",
    "skipped_videos = 0\n",
    "for video_uid in narration:\n",
    "  if video_uid not in common_files:\n",
    "    skipped_videos = skipped_videos+1\n",
    "    continue\n",
    "\n",
    "  # if counter>=50:   # when 50 the size is the same as train :) which is super good\n",
    "  #   break\n",
    "\n",
    "  metadata_clips_as_dict = metadata.get(\"clips\")\n",
    "\n",
    "  metadata_clips = [item for item in metadata_clips_as_dict if item.get(\"video_uid\") == video_uid]\n",
    "  if len(metadata_clips) == 0:\n",
    "    continue\n",
    "\n",
    "  list_of_clips = []\n",
    "  for metadata_video in metadata_clips:\n",
    "\n",
    "    dic_with_metadata = {\n",
    "        \"clip_uid\" : metadata_video[\"clip_uid\"],\n",
    "        \"video_start_sec\" : metadata_video[\"video_start_sec\"],\n",
    "        \"video_end_sec\" : metadata_video[\"video_end_sec\"],\n",
    "        \"annotations\":[]\n",
    "    }\n",
    "\n",
    "    video = narration[video_uid]\n",
    "    if not video:\n",
    "      continue\n",
    "    narrator_1 = video.get(\"narration_pass_1\")\n",
    "    if not narrator_1:\n",
    "      continue\n",
    "    narrations = (narrator_1.get(\"narrations\"))\n",
    "    if len(narrations) == 0:\n",
    "      continue\n",
    "\n",
    "    language_queries = []\n",
    "    # we skip the last narration for each video\n",
    "    for i in range(len(narrations)-1):\n",
    "      dic = {\n",
    "          \"clip_start_sec\" : narrations[i][\"timestamp_sec\"],\n",
    "          \"clip_end_sec\" : narrations[i+1][\"timestamp_sec\"],\n",
    "          \"query\": narrations[i][\"narration_text\"]\n",
    "      }\n",
    "      language_queries.append(dic)\n",
    "    annotation_uid = narrations[0][\"annotation_uid\"]\n",
    "    dic_with_metadata[\"annotations\"].append({\n",
    "        \"language_queries\":language_queries,\n",
    "        \"annotation_uid\":annotation_uid\n",
    "        })\n",
    "    list_of_clips.append(dic_with_metadata)\n",
    "\n",
    "  if len(list_of_clips) == 0:\n",
    "    continue\n",
    "  ids_dictionary = {\n",
    "      \"video_uid\" : video_uid,\n",
    "      \"clips\": list_of_clips\n",
    "                    }\n",
    "  big_dictionary[\"videos\"].append(ids_dictionary)\n",
    "  counter = counter + 1\n",
    "\n",
    "\n",
    "print(counter)"
   ],
   "metadata": {
    "colab": {
     "base_uri": "https://localhost:8080/"
    },
    "id": "JLwlD7-CUFqS",
    "outputId": "9a62a6f3-a51e-491e-e9b9-b8e56df80831"
   },
   "execution_count": null,
   "outputs": [
    {
     "output_type": "stream",
     "name": "stdout",
     "text": [
      "2414\n"
     ]
    }
   ]
  },
  {
   "cell_type": "code",
   "source": [
    "\n",
    "anns = []\n",
    "number_of_clips_per_video = []\n",
    "number_of_queries = []\n",
    "nones_in_query = 0\n",
    "for vid in big_dictionary[\"videos\"]:\n",
    "    num_of_clips = 0\n",
    "    for clip in vid[\"clips\"]:\n",
    "        num_of_clips = num_of_clips + 1\n",
    "\n",
    "        for ann in clip[\"annotations\"]:\n",
    "            number_of_queries.append(len(ann[\"language_queries\"]))\n",
    "            for query in ann[\"language_queries\"]:\n",
    "                query_dict = {\n",
    "                    \"query_start_time_sec\": clip.get(\"video_start_sec\",None),\n",
    "                    \"query_end_time_sec\": clip.get(\"video_end_sec\", None),\n",
    "                    \"query_response_start_time_sec\": query.get(\"clip_start_sec\", None),\n",
    "                    \"query_response_end_time_sec\": query.get(\"clip_end_sec\",None),\n",
    "                    \"query\": query.get(\"query\", None),\n",
    "                }\n",
    "                anns.append(query_dict)\n",
    "                if None in list(query_dict.values()):\n",
    "                    nones_in_query = nones_in_query + 1\n",
    "    number_of_clips_per_video.append(num_of_clips)\n",
    "\n",
    "print(nones_in_query)\n",
    "print(anns[:5])"
   ],
   "metadata": {
    "colab": {
     "base_uri": "https://localhost:8080/"
    },
    "id": "Wvzujn2GVYUZ",
    "outputId": "4f6b4542-98c1-43f6-c171-7c3c51566b92"
   },
   "execution_count": null,
   "outputs": [
    {
     "output_type": "stream",
     "name": "stdout",
     "text": [
      "0\n",
      "[{'query_start_time_sec': 0.0, 'query_end_time_sec': 308.0, 'query_response_start_time_sec': 0.0, 'query_response_end_time_sec': 1.85265, 'query': '#C C removes his hands from his head. #unsure'}, {'query_start_time_sec': 0.0, 'query_end_time_sec': 308.0, 'query_response_start_time_sec': 1.85265, 'query_response_end_time_sec': 5.48066, 'query': '#C C sits on a chair in the dining room'}, {'query_start_time_sec': 0.0, 'query_end_time_sec': 308.0, 'query_response_start_time_sec': 5.48066, 'query_response_end_time_sec': 5.9699, 'query': '#C C picks a brush on a table'}, {'query_start_time_sec': 0.0, 'query_end_time_sec': 308.0, 'query_response_start_time_sec': 5.9699, 'query_response_end_time_sec': 6.6229, 'query': '#C C touches the drawing board with his left hand'}, {'query_start_time_sec': 0.0, 'query_end_time_sec': 308.0, 'query_response_start_time_sec': 6.6229, 'query_response_end_time_sec': 7.32183, 'query': '#C C dips the brush in a cup of water'}]\n"
     ]
    }
   ]
  },
  {
   "cell_type": "code",
   "source": [
    "print(\"# of annotations\", len(anns))"
   ],
   "metadata": {
    "colab": {
     "base_uri": "https://localhost:8080/"
    },
    "id": "9ksEUfJBVYb7",
    "outputId": "417c163a-54ee-4024-8341-1073e53af287"
   },
   "execution_count": null,
   "outputs": [
    {
     "output_type": "stream",
     "name": "stdout",
     "text": [
      "# of annotations 2965677\n"
     ]
    }
   ]
  },
  {
   "cell_type": "code",
   "source": [
    "plt.hist(number_of_clips_per_video, bins=range(0, max(number_of_clips_per_video) + 1), edgecolor='black', align='left')\n",
    "print(\"Number of videos that have 0 clips:\", number_of_clips_per_video.count(0))"
   ],
   "metadata": {
    "colab": {
     "base_uri": "https://localhost:8080/",
     "height": 770
    },
    "id": "h5COSHXfVgTC",
    "outputId": "7f631310-9ccd-4fcb-b644-3efed62ca5d0"
   },
   "execution_count": null,
   "outputs": [
    {
     "output_type": "stream",
     "name": "stdout",
     "text": [
      "Number of videos that have 0 clips: 0\n"
     ]
    },
    {
     "output_type": "display_data",
     "data": {
      "text/plain": [
       "<Figure size 1600x900 with 1 Axes>"
      ],
      "image/png": "[encoded data removed]"
     },
     "metadata": {}
    }
   ]
  },
  {
   "cell_type": "code",
   "source": [
    "print(\"Number of videos:\", len(number_of_clips_per_video))\n",
    "print(\"Number of clips:\", sum(number_of_clips_per_video))\n",
    "print(\"The following data is per annotations, not per clips\")\n",
    "print(\"Average annotations per clip:\", np.mean(number_of_queries))\n",
    "print(\"Min annotations per clip:\", np.min(number_of_queries))\n",
    "print(\"Max annotations per clip:\", np.max(number_of_queries))\n",
    "print(\"Number of clips that have 0 queries:\", number_of_queries.count(0))"
   ],
   "metadata": {
    "colab": {
     "base_uri": "https://localhost:8080/"
    },
    "id": "Cc4YLxgIVi6n",
    "outputId": "5975e748-128c-4293-d3ff-a6ac1911d683"
   },
   "execution_count": null,
   "outputs": [
    {
     "output_type": "stream",
     "name": "stdout",
     "text": [
      "Number of videos: 2414\n",
      "Number of clips: 6962\n",
      "The following data is per annotations, not per clips\n",
      "Average annotations per clip: 425.98060902039646\n",
      "Min annotations per clip: 0\n",
      "Max annotations per clip: 4529\n",
      "Number of clips that have 0 queries: 7\n"
     ]
    }
   ]
  },
  {
   "cell_type": "markdown",
   "source": [
    "Possible strategy: We use 11 (or better 6-15 random) narrations per video, we will pick random clip from each video(fix timestamps!!!) and we should get a result approximately 2414 * 11 = 26554 narrations in total. This surpasses our goal of 22400 and it should be enough. I would suggest to iteratevly create and enhane the dataset and to see how the amount of pretrain data influences the outcomes of the model. What I mean is after we do this, we start using clips that we havent used."
   ],
   "metadata": {
    "id": "_Y8KrvcSZk6W"
   }
  },
  {
   "cell_type": "code",
   "source": [],
   "metadata": {
    "id": "twz0CCW5XQu0"
   },
   "execution_count": null,
   "outputs": []
  },
  {
   "cell_type": "code",
   "source": [],
   "metadata": {
    "id": "tmsARm15vQX8"
   },
   "execution_count": null,
   "outputs": []
  },
  {
   "cell_type": "code",
   "source": [],
   "metadata": {
    "id": "C1LLHLgVvQhp"
   },
   "execution_count": null,
   "outputs": []
  },
  {
   "cell_type": "markdown",
   "source": [
    "# NLQ"
   ],
   "metadata": {
    "id": "XFiMLhlZxxGj"
   }
  },
  {
   "cell_type": "code",
   "source": [
    "for video in nlq_train_videos:\n",
    "  if len(video['clips']) > 1:\n",
    "    json_str = json.dumps(video, indent=4)\n",
    "    print(json_str)\n",
    "    vid_uid = video[\"video_uid\"]\n",
    "    break"
   ],
   "metadata": {
    "colab": {
     "base_uri": "https://localhost:8080/"
    },
    "id": "GmsM95vqvQke",
    "outputId": "40e4c08a-230b-446e-d8e9-46cec081017c"
   },
   "execution_count": null,
   "outputs": [
    {
     "output_type": "stream",
     "name": "stdout",
     "text": [
      "{\n",
      "    \"video_uid\": \"1f5ca4f1-6200-4a9a-86af-150824b51f67\",\n",
      "    \"clips\": [\n",
      "        {\n",
      "            \"clip_uid\": \"1fda3b6a-d01f-44f6-bba0-ae171d558129\",\n",
      "            \"video_start_sec\": 0.0,\n",
      "            \"video_end_sec\": 480.0366739908854,\n",
      "            \"video_start_frame\": 0,\n",
      "            \"video_end_frame\": 14401,\n",
      "            \"clip_start_sec\": 0,\n",
      "            \"clip_end_sec\": 480.0366739908854,\n",
      "            \"clip_start_frame\": 0,\n",
      "            \"clip_end_frame\": 14401,\n",
      "            \"source_clip_uid\": \"ce74bbe0-42b8-4d13-a760-fb3680405021\",\n",
      "            \"annotations\": [\n",
      "                {\n",
      "                    \"language_queries\": [\n",
      "                        {\n",
      "                            \"clip_start_sec\": 134.01252,\n",
      "                            \"clip_end_sec\": 152.599,\n",
      "                            \"video_start_sec\": 134.01252,\n",
      "                            \"video_end_sec\": 152.599,\n",
      "                            \"video_start_frame\": 4020,\n",
      "                            \"video_end_frame\": 4578,\n",
      "                            \"template\": \"Objects: What did I put in X?\",\n",
      "                            \"query\": \"What did I pour into the trash bag?\",\n",
      "                            \"slot_x\": \"Trash bag\",\n",
      "                            \"verb_x\": \"[verb_not_applicable]\",\n",
      "                            \"raw_tags\": [\n",
      "                                \"Objects: What did I put in X?\",\n",
      "                                \"What did I pour into the trash bag?\",\n",
      "                                \"Trash bag\",\n",
      "                                \"[verb_not_applicable]\"\n",
      "                            ]\n",
      "                        },\n",
      "                        {\n",
      "                            \"clip_start_sec\": 339.30831,\n",
      "                            \"clip_end_sec\": 348.65355,\n",
      "                            \"video_start_sec\": 339.30831,\n",
      "                            \"video_end_sec\": 348.65355,\n",
      "                            \"video_start_frame\": 10179,\n",
      "                            \"video_end_frame\": 10460,\n",
      "                            \"template\": \"Objects: Where is object X before / after event Y?\",\n",
      "                            \"query\": \"Where was the Drill before I picked it up?\",\n",
      "                            \"slot_x\": \"Drill\",\n",
      "                            \"verb_x\": \"[verb_not_applicable]\",\n",
      "                            \"slot_y\": \"I picked it up\",\n",
      "                            \"verb_y\": \"pick\",\n",
      "                            \"raw_tags\": [\n",
      "                                \"Objects: Where is object X before / after event Y?\",\n",
      "                                \"Where was the Drill before I picked it up?\",\n",
      "                                \"Drill\",\n",
      "                                \"[verb_not_applicable]\",\n",
      "                                \"I picked it up\",\n",
      "                                \"pick\"\n",
      "                            ]\n",
      "                        },\n",
      "                        {\n",
      "                            \"clip_start_sec\": 348.65355,\n",
      "                            \"clip_end_sec\": 355.83029,\n",
      "                            \"video_start_sec\": 348.65355,\n",
      "                            \"video_end_sec\": 355.83029,\n",
      "                            \"video_start_frame\": 10460,\n",
      "                            \"video_end_frame\": 10675,\n",
      "                            \"template\": \"Objects: What X did I Y?\",\n",
      "                            \"query\": \"What plank did I drill with the Drill?\",\n",
      "                            \"slot_x\": \"Plank\",\n",
      "                            \"verb_x\": \"[verb_not_applicable]\",\n",
      "                            \"slot_y\": \"Drill with the Drill\",\n",
      "                            \"verb_y\": \"drill\",\n",
      "                            \"raw_tags\": [\n",
      "                                \"Objects: What X did I Y?\",\n",
      "                                \"What plank did I drill with the Drill?\",\n",
      "                                \"Plank\",\n",
      "                                \"[verb_not_applicable]\",\n",
      "                                \"Drill with the Drill\",\n",
      "                                \"drill\"\n",
      "                            ]\n",
      "                        },\n",
      "                        {\n",
      "                            \"clip_start_sec\": 449.60689,\n",
      "                            \"clip_end_sec\": 454.538,\n",
      "                            \"video_start_sec\": 449.60689,\n",
      "                            \"video_end_sec\": 454.538,\n",
      "                            \"video_start_frame\": 13488,\n",
      "                            \"video_end_frame\": 13636,\n",
      "                            \"template\": \"Objects: How many X\\u2019s? (quantity question)\",\n",
      "                            \"query\": \"How many woods did I move from the wall?\",\n",
      "                            \"slot_x\": \"Woods\",\n",
      "                            \"verb_x\": \"[verb_not_applicable]\",\n",
      "                            \"raw_tags\": [\n",
      "                                \"Objects: How many X\\u2019s? (quantity question)\",\n",
      "                                \"How many woods did I move from the wall?\",\n",
      "                                \"Woods\",\n",
      "                                \"[verb_not_applicable]\"\n",
      "                            ]\n",
      "                        },\n",
      "                        {\n",
      "                            \"clip_start_sec\": 0.0,\n",
      "                            \"clip_end_sec\": 3.0264,\n",
      "                            \"video_start_sec\": 0.0,\n",
      "                            \"video_end_sec\": 3.0264,\n",
      "                            \"video_start_frame\": 0,\n",
      "                            \"video_end_frame\": 91,\n",
      "                            \"template\": \"Objects: What X did I Y?\",\n",
      "                            \"query\": \"What Phone did I operate?\",\n",
      "                            \"slot_x\": \"Phone\",\n",
      "                            \"verb_x\": \"[verb_not_applicable]\",\n",
      "                            \"slot_y\": \"Operate\",\n",
      "                            \"verb_y\": \"operate\",\n",
      "                            \"raw_tags\": [\n",
      "                                \"Objects: What X did I Y?\",\n",
      "                                \"What Phone did I operate?\",\n",
      "                                \"Phone\",\n",
      "                                \"[verb_not_applicable]\",\n",
      "                                \"Operate\",\n",
      "                                \"operate\"\n",
      "                            ]\n",
      "                        },\n",
      "                        {\n",
      "                            \"clip_start_sec\": 5.27597,\n",
      "                            \"clip_end_sec\": 10.74936,\n",
      "                            \"video_start_sec\": 5.27597,\n",
      "                            \"video_end_sec\": 10.74936,\n",
      "                            \"video_start_frame\": 158,\n",
      "                            \"video_end_frame\": 322,\n",
      "                            \"template\": \"Objects: What did I put in X?\",\n",
      "                            \"query\": \"What did I put in my trousers pocket?\",\n",
      "                            \"slot_x\": \"Trousers pocket\",\n",
      "                            \"verb_x\": \"[verb_not_applicable]\",\n",
      "                            \"raw_tags\": [\n",
      "                                \"Objects: What did I put in X?\",\n",
      "                                \"What did I put in my trousers pocket?\",\n",
      "                                \"Trousers pocket\",\n",
      "                                \"[verb_not_applicable]\"\n",
      "                            ]\n",
      "                        },\n",
      "                        {\n",
      "                            \"clip_start_sec\": 170.44016,\n",
      "                            \"clip_end_sec\": 198.447,\n",
      "                            \"video_start_sec\": 170.44016,\n",
      "                            \"video_end_sec\": 198.447,\n",
      "                            \"video_start_frame\": 5113,\n",
      "                            \"video_end_frame\": 5953,\n",
      "                            \"template\": \"People: Who did I interact with when I did activity X?\",\n",
      "                            \"query\": \"Who was with me when I packed the debris from the ground with the Shovel?\",\n",
      "                            \"slot_x\": \"Packed the debris from the ground with the shovel?\",\n",
      "                            \"verb_x\": \"pack\",\n",
      "                            \"raw_tags\": [\n",
      "                                \"People: Who did I interact with when I did activity X?\",\n",
      "                                \"Who was with me when I packed the debris from the ground with the Shovel?\",\n",
      "                                \"Packed the debris from the ground with the shovel?\",\n",
      "                                \"pack\"\n",
      "                            ]\n",
      "                        },\n",
      "                        {\n",
      "                            \"clip_start_sec\": 465.39276,\n",
      "                            \"clip_end_sec\": 465.39276,\n",
      "                            \"video_start_sec\": 465.39276,\n",
      "                            \"video_end_sec\": 465.39276,\n",
      "                            \"video_start_frame\": 13962,\n",
      "                            \"video_end_frame\": 13962,\n",
      "                            \"template\": \"Objects: What X is Y?\",\n",
      "                            \"query\": \"What Color was the Air Vent that I fixed to the wall?\",\n",
      "                            \"slot_x\": \"Color\",\n",
      "                            \"verb_x\": \"[verb_not_applicable]\",\n",
      "                            \"slot_y\": \"Air Vent that I fixed to the wall\",\n",
      "                            \"verb_y\": \"[verb_not_applicable]\",\n",
      "                            \"raw_tags\": [\n",
      "                                \"Objects: What X is Y?\",\n",
      "                                \"What Color was the Air Vent that I fixed to the wall?\",\n",
      "                                \"Color\",\n",
      "                                \"[verb_not_applicable]\",\n",
      "                                \"Air Vent that I fixed to the wall\",\n",
      "                                \"[verb_not_applicable]\"\n",
      "                            ]\n",
      "                        }\n",
      "                    ],\n",
      "                    \"annotation_uid\": \"5c04e985-099a-444b-a69a-0700e4d3553a\"\n",
      "                },\n",
      "                {\n",
      "                    \"language_queries\": [\n",
      "                        {\n",
      "                            \"clip_start_sec\": 1.61564,\n",
      "                            \"clip_end_sec\": 3.2,\n",
      "                            \"video_start_sec\": 1.61564,\n",
      "                            \"video_end_sec\": 3.2,\n",
      "                            \"video_start_frame\": 48,\n",
      "                            \"video_end_frame\": 96,\n",
      "                            \"template\": \"Objects: What did I put in X?\",\n",
      "                            \"query\": \"What did I put in the pocket using the left hand?\",\n",
      "                            \"slot_x\": \"Pocket\",\n",
      "                            \"verb_x\": \"put\",\n",
      "                            \"raw_tags\": [\n",
      "                                \"Objects: What did I put in X?\",\n",
      "                                \"What did I put in the pocket using the left hand?\",\n",
      "                                \"Pocket\",\n",
      "                                \"put\"\n",
      "                            ]\n",
      "                        },\n",
      "                        {\n",
      "                            \"clip_start_sec\": 46.0,\n",
      "                            \"clip_end_sec\": 49.0,\n",
      "                            \"video_start_sec\": 46.0,\n",
      "                            \"video_end_sec\": 49.0,\n",
      "                            \"video_start_frame\": 1380,\n",
      "                            \"video_end_frame\": 1470,\n",
      "                            \"template\": \"Place: Where did I put X?\",\n",
      "                            \"query\": \"Where did I put the hammer?\",\n",
      "                            \"slot_x\": \"hammer\",\n",
      "                            \"verb_x\": \"put\",\n",
      "                            \"raw_tags\": [\n",
      "                                \"Place: Where did I put X?\",\n",
      "                                \"Where did I put the hammer?\",\n",
      "                                \"hammer\",\n",
      "                                \"put\"\n",
      "                            ]\n",
      "                        },\n",
      "                        {\n",
      "                            \"clip_start_sec\": 101.20809,\n",
      "                            \"clip_end_sec\": 104.643,\n",
      "                            \"video_start_sec\": 101.20809,\n",
      "                            \"video_end_sec\": 104.643,\n",
      "                            \"video_start_frame\": 3036,\n",
      "                            \"video_end_frame\": 3139,\n",
      "                            \"template\": \"Objects: State of an object\",\n",
      "                            \"query\": \" How many spades did I adjusts on the wall?\",\n",
      "                            \"slot_x\": \"spades\",\n",
      "                            \"verb_x\": \"adjust\",\n",
      "                            \"slot_y\": \"\",\n",
      "                            \"raw_tags\": [\n",
      "                                \"Objects: State of an object\",\n",
      "                                \" How many spades did I adjusts on the wall?\",\n",
      "                                \"spades\",\n",
      "                                \"adjust\",\n",
      "                                \"\"\n",
      "                            ]\n",
      "                        },\n",
      "                        {\n",
      "                            \"clip_start_sec\": 113.93803,\n",
      "                            \"clip_end_sec\": 117.0,\n",
      "                            \"video_start_sec\": 113.93803,\n",
      "                            \"video_end_sec\": 117.0,\n",
      "                            \"video_start_frame\": 3418,\n",
      "                            \"video_end_frame\": 3510,\n",
      "                            \"template\": \"Objects: State of an object\",\n",
      "                            \"query\": \"Did I put a leg in the dustbin?\",\n",
      "                            \"slot_x\": \"leg\",\n",
      "                            \"verb_x\": \"put\",\n",
      "                            \"raw_tags\": [\n",
      "                                \"Objects: State of an object\",\n",
      "                                \"Did I put a leg in the dustbin?\",\n",
      "                                \"leg\",\n",
      "                                \"put\"\n",
      "                            ]\n",
      "                        },\n",
      "                        {\n",
      "                            \"clip_start_sec\": 154.377,\n",
      "                            \"clip_end_sec\": 156.3,\n",
      "                            \"video_start_sec\": 154.377,\n",
      "                            \"video_end_sec\": 156.3,\n",
      "                            \"video_start_frame\": 4631,\n",
      "                            \"video_end_frame\": 4689,\n",
      "                            \"template\": \"Place: Where did I put X?\",\n",
      "                            \"query\": \"Where did I put the bin bag?\",\n",
      "                            \"slot_x\": \"bin bag\",\n",
      "                            \"verb_x\": \"put\",\n",
      "                            \"raw_tags\": [\n",
      "                                \"Place: Where did I put X?\",\n",
      "                                \"Where did I put the bin bag?\",\n",
      "                                \"bin bag\",\n",
      "                                \"put\"\n",
      "                            ]\n",
      "                        },\n",
      "                        {\n",
      "                            \"clip_start_sec\": 223.52315,\n",
      "                            \"clip_end_sec\": 223.52315,\n",
      "                            \"video_start_sec\": 223.52315,\n",
      "                            \"video_end_sec\": 223.52315,\n",
      "                            \"video_start_frame\": 6706,\n",
      "                            \"video_end_frame\": 6706,\n",
      "                            \"template\": \"People: Who did I interact with when I did activity X?\",\n",
      "                            \"query\": \"Who helped me adjust the pipe?\",\n",
      "                            \"slot_x\": \"adjusts the pipe\",\n",
      "                            \"raw_tags\": [\n",
      "                                \"People: Who did I interact with when I did activity X?\",\n",
      "                                \"Who helped me adjust the pipe?\",\n",
      "                                \"adjusts the pipe\"\n",
      "                            ]\n",
      "                        },\n",
      "                        {\n",
      "                            \"clip_start_sec\": 284.70917,\n",
      "                            \"clip_end_sec\": 286.0,\n",
      "                            \"video_start_sec\": 284.70917,\n",
      "                            \"video_end_sec\": 286.0,\n",
      "                            \"video_start_frame\": 8541,\n",
      "                            \"video_end_frame\": 8580,\n",
      "                            \"template\": \"Place: Where did I put X?\",\n",
      "                            \"query\": \"Where did my colleague put the drill? \",\n",
      "                            \"slot_x\": \"drill\",\n",
      "                            \"verb_x\": \"put\",\n",
      "                            \"raw_tags\": [\n",
      "                                \"Place: Where did I put X?\",\n",
      "                                \"Where did my colleague put the drill? \",\n",
      "                                \"drill\",\n",
      "                                \"put\"\n",
      "                            ]\n",
      "                        },\n",
      "                        {\n",
      "                            \"clip_start_sec\": 345.3,\n",
      "                            \"clip_end_sec\": 346.5,\n",
      "                            \"video_start_sec\": 345.3,\n",
      "                            \"video_end_sec\": 346.5,\n",
      "                            \"video_start_frame\": 10359,\n",
      "                            \"video_end_frame\": 10395,\n",
      "                            \"template\": \"Objects: What X is Y?\",\n",
      "                            \"query\": \"What color is the drill I picked on the floor?\",\n",
      "                            \"slot_x\": \"color\",\n",
      "                            \"verb_x\": \"[verb_not_applicable]\",\n",
      "                            \"slot_y\": \"drill I picked on the floor\",\n",
      "                            \"verb_y\": \"pick\",\n",
      "                            \"raw_tags\": [\n",
      "                                \"Objects: What X is Y?\",\n",
      "                                \"What color is the drill I picked on the floor?\",\n",
      "                                \"color\",\n",
      "                                \"[verb_not_applicable]\",\n",
      "                                \"drill I picked on the floor\",\n",
      "                                \"pick\"\n",
      "                            ]\n",
      "                        },\n",
      "                        {\n",
      "                            \"clip_start_sec\": 457.484,\n",
      "                            \"clip_end_sec\": 463.5,\n",
      "                            \"video_start_sec\": 457.484,\n",
      "                            \"video_end_sec\": 463.5,\n",
      "                            \"video_start_frame\": 13725,\n",
      "                            \"video_end_frame\": 13905,\n",
      "                            \"template\": \"Objects: How many X\\u2019s? (quantity question)\",\n",
      "                            \"query\": \"How many air hole covers did I fix on the wall?\",\n",
      "                            \"slot_x\": \"air hole covers \",\n",
      "                            \"verb_x\": \"[verb_not_applicable]\",\n",
      "                            \"slot_y\": \"fix on the wall\",\n",
      "                            \"verb_y\": \"fix\",\n",
      "                            \"raw_tags\": [\n",
      "                                \"Objects: How many X\\u2019s? (quantity question)\",\n",
      "                                \"How many air hole covers did I fix on the wall?\",\n",
      "                                \"air hole covers \",\n",
      "                                \"[verb_not_applicable]\",\n",
      "                                \"fix on the wall\",\n",
      "                                \"fix\"\n",
      "                            ]\n",
      "                        }\n",
      "                    ],\n",
      "                    \"annotation_uid\": \"5c86cc1d-f650-4d8f-b8a6-4af333e9adda\"\n",
      "                }\n",
      "            ]\n",
      "        },\n",
      "        {\n",
      "            \"clip_uid\": \"9f6f04ab-e7f6-450d-9ed6-47ad16180c52\",\n",
      "            \"video_start_sec\": 989.9966666666667,\n",
      "            \"video_end_sec\": 1469.9963413333335,\n",
      "            \"video_start_frame\": 44473,\n",
      "            \"video_end_frame\": 44473,\n",
      "            \"clip_start_sec\": 0,\n",
      "            \"clip_end_sec\": 479.9996746666668,\n",
      "            \"clip_start_frame\": 0,\n",
      "            \"clip_end_frame\": 14400,\n",
      "            \"source_clip_uid\": \"daefd51b-b102-43d6-865a-990564f0968e\",\n",
      "            \"annotations\": [\n",
      "                {\n",
      "                    \"language_queries\": [\n",
      "                        {\n",
      "                            \"clip_start_sec\": 74.57582,\n",
      "                            \"clip_end_sec\": 78.11347,\n",
      "                            \"video_start_sec\": 1064.5721613333335,\n",
      "                            \"video_end_sec\": 1068.1098113333333,\n",
      "                            \"video_start_frame\": 44473,\n",
      "                            \"video_end_frame\": 44473,\n",
      "                            \"template\": \"Objects: Where is object X before / after event Y?\",\n",
      "                            \"query\": \"Where was the Beam Level before I picked it up?\",\n",
      "                            \"slot_x\": \"Beam Level\",\n",
      "                            \"verb_x\": \"[verb_not_applicable]\",\n",
      "                            \"slot_y\": \"I picked it up\",\n",
      "                            \"verb_y\": \"pick\",\n",
      "                            \"raw_tags\": [\n",
      "                                \"Objects: Where is object X before / after event Y?\",\n",
      "                                \"Where was the Beam Level before I picked it up?\",\n",
      "                                \"Beam Level\",\n",
      "                                \"[verb_not_applicable]\",\n",
      "                                \"I picked it up\",\n",
      "                                \"pick\"\n",
      "                            ]\n",
      "                        },\n",
      "                        {\n",
      "                            \"clip_start_sec\": 127.7006,\n",
      "                            \"clip_end_sec\": 130.26872,\n",
      "                            \"video_start_sec\": 1117.6969413333334,\n",
      "                            \"video_end_sec\": 1120.2650613333335,\n",
      "                            \"video_start_frame\": 44473,\n",
      "                            \"video_end_frame\": 44473,\n",
      "                            \"template\": \"Objects: What X is Y?\",\n",
      "                            \"query\": \"What was the Color of the Lamp I picked up from the bathtub?\",\n",
      "                            \"slot_x\": \"Color\",\n",
      "                            \"verb_x\": \"[verb_not_applicable]\",\n",
      "                            \"slot_y\": \"Lamp picked up from the bathtub\",\n",
      "                            \"verb_y\": \"[verb_not_applicable]\",\n",
      "                            \"raw_tags\": [\n",
      "                                \"Objects: What X is Y?\",\n",
      "                                \"What was the Color of the Lamp I picked up from the bathtub?\",\n",
      "                                \"Color\",\n",
      "                                \"[verb_not_applicable]\",\n",
      "                                \"Lamp picked up from the bathtub\",\n",
      "                                \"[verb_not_applicable]\"\n",
      "                            ]\n",
      "                        },\n",
      "                        {\n",
      "                            \"clip_start_sec\": 271.55325,\n",
      "                            \"clip_end_sec\": 274.61467,\n",
      "                            \"video_start_sec\": 1261.5495913333334,\n",
      "                            \"video_end_sec\": 1264.6110113333334,\n",
      "                            \"video_start_frame\": 44473,\n",
      "                            \"video_end_frame\": 44473,\n",
      "                            \"template\": \"People: When did I talk to or interact with person with role X?\",\n",
      "                            \"query\": \"When did I give the Drill to the Coworker?\",\n",
      "                            \"slot_x\": \"Coworker\",\n",
      "                            \"verb_x\": \"[verb_not_applicable]\",\n",
      "                            \"raw_tags\": [\n",
      "                                \"People: When did I talk to or interact with person with role X?\",\n",
      "                                \"When did I give the Drill to the Coworker?\",\n",
      "                                \"Coworker\",\n",
      "                                \"[verb_not_applicable]\"\n",
      "                            ]\n",
      "                        },\n",
      "                        {\n",
      "                            \"clip_start_sec\": 231.55312,\n",
      "                            \"clip_end_sec\": 242.73446,\n",
      "                            \"video_start_sec\": 1221.5494613333335,\n",
      "                            \"video_end_sec\": 1232.7308013333334,\n",
      "                            \"video_start_frame\": 44473,\n",
      "                            \"video_end_frame\": 44473,\n",
      "                            \"template\": \"People: Who did I interact with when I did activity X?\",\n",
      "                            \"query\": \"Who was with me when I picked up the plastic pipe fittings?\",\n",
      "                            \"slot_x\": \"Picked up the plastic pipe fittings\",\n",
      "                            \"verb_x\": \"pick\",\n",
      "                            \"raw_tags\": [\n",
      "                                \"People: Who did I interact with when I did activity X?\",\n",
      "                                \"Who was with me when I picked up the plastic pipe fittings?\",\n",
      "                                \"Picked up the plastic pipe fittings\",\n",
      "                                \"pick\"\n",
      "                            ]\n",
      "                        },\n",
      "                        {\n",
      "                            \"clip_start_sec\": 239.72844,\n",
      "                            \"clip_end_sec\": 241.36468,\n",
      "                            \"video_start_sec\": 1229.7247813333333,\n",
      "                            \"video_end_sec\": 1231.3610213333334,\n",
      "                            \"video_start_frame\": 44473,\n",
      "                            \"video_end_frame\": 44473,\n",
      "                            \"template\": \"Objects: What did I put in X?\",\n",
      "                            \"query\": \"What did I put into the plastic bucket?\",\n",
      "                            \"slot_x\": \"Plastic bucket\",\n",
      "                            \"verb_x\": \"[verb_not_applicable]\",\n",
      "                            \"raw_tags\": [\n",
      "                                \"Objects: What did I put in X?\",\n",
      "                                \"What did I put into the plastic bucket?\",\n",
      "                                \"Plastic bucket\",\n",
      "                                \"[verb_not_applicable]\"\n",
      "                            ]\n",
      "                        },\n",
      "                        {\n",
      "                            \"clip_start_sec\": 254.69146,\n",
      "                            \"clip_end_sec\": 256.55926,\n",
      "                            \"video_start_sec\": 1244.6878013333335,\n",
      "                            \"video_end_sec\": 1246.5556013333335,\n",
      "                            \"video_start_frame\": 44473,\n",
      "                            \"video_end_frame\": 44473,\n",
      "                            \"template\": \"Objects: What did I put in X?\",\n",
      "                            \"query\": \"What did I put in my trousers pocket?\",\n",
      "                            \"slot_x\": \"Trousers pocket\",\n",
      "                            \"verb_x\": \"[verb_not_applicable]\",\n",
      "                            \"raw_tags\": [\n",
      "                                \"Objects: What did I put in X?\",\n",
      "                                \"What did I put in my trousers pocket?\",\n",
      "                                \"Trousers pocket\",\n",
      "                                \"[verb_not_applicable]\"\n",
      "                            ]\n",
      "                        },\n",
      "                        {\n",
      "                            \"clip_start_sec\": 248.60799,\n",
      "                            \"clip_end_sec\": 255.239,\n",
      "                            \"video_start_sec\": 1238.6043313333334,\n",
      "                            \"video_end_sec\": 1245.2353413333335,\n",
      "                            \"video_start_frame\": 44473,\n",
      "                            \"video_end_frame\": 44473,\n",
      "                            \"template\": \"People: Who did I interact with when I did activity X?\",\n",
      "                            \"query\": \"Who was with me when I operated the camera on my Phone?\",\n",
      "                            \"slot_x\": \"Operated the camera on my Phone\",\n",
      "                            \"verb_x\": \"operate\",\n",
      "                            \"raw_tags\": [\n",
      "                                \"People: Who did I interact with when I did activity X?\",\n",
      "                                \"Who was with me when I operated the camera on my Phone?\",\n",
      "                                \"Operated the camera on my Phone\",\n",
      "                                \"operate\"\n",
      "                            ]\n",
      "                        },\n",
      "                        {\n",
      "                            \"clip_start_sec\": 178.52811,\n",
      "                            \"clip_end_sec\": 181.43964,\n",
      "                            \"video_start_sec\": 1168.5244513333332,\n",
      "                            \"video_end_sec\": 1171.4359813333333,\n",
      "                            \"video_start_frame\": 44473,\n",
      "                            \"video_end_frame\": 44473,\n",
      "                            \"template\": \"People: Who did I interact with when I did activity X?\",\n",
      "                            \"query\": \"Who was with me when I checked my trousers?\",\n",
      "                            \"slot_x\": \"Checked my trouser \",\n",
      "                            \"verb_x\": \"check\",\n",
      "                            \"raw_tags\": [\n",
      "                                \"People: Who did I interact with when I did activity X?\",\n",
      "                                \"Who was with me when I checked my trousers?\",\n",
      "                                \"Checked my trouser \",\n",
      "                                \"check\"\n",
      "                            ]\n",
      "                        }\n",
      "                    ],\n",
      "                    \"annotation_uid\": \"4d64a071-0b97-4c19-aed1-c594e83d5173\"\n",
      "                },\n",
      "                {\n",
      "                    \"language_queries\": [\n",
      "                        {\n",
      "                            \"clip_start_sec\": 73.532,\n",
      "                            \"clip_end_sec\": 76.0,\n",
      "                            \"video_start_sec\": 1063.5283413333334,\n",
      "                            \"video_end_sec\": 1065.9963413333335,\n",
      "                            \"video_start_frame\": 44473,\n",
      "                            \"video_end_frame\": 44473,\n",
      "                            \"template\": \"Objects: Where is object X before / after event Y?\",\n",
      "                            \"query\": \"Where was the spirit level gauge before picking it?\",\n",
      "                            \"slot_x\": \"spirit level gauge\",\n",
      "                            \"verb_x\": \"[verb_not_applicable]\",\n",
      "                            \"slot_y\": \"picking it\",\n",
      "                            \"verb_y\": \"pick\",\n",
      "                            \"raw_tags\": [\n",
      "                                \"Objects: Where is object X before / after event Y?\",\n",
      "                                \"Where was the spirit level gauge before picking it?\",\n",
      "                                \"spirit level gauge\",\n",
      "                                \"[verb_not_applicable]\",\n",
      "                                \"picking it\",\n",
      "                                \"pick\"\n",
      "                            ]\n",
      "                        },\n",
      "                        {\n",
      "                            \"clip_start_sec\": 149.23182,\n",
      "                            \"clip_end_sec\": 167.231,\n",
      "                            \"video_start_sec\": 1139.2281613333334,\n",
      "                            \"video_end_sec\": 1157.2273413333332,\n",
      "                            \"video_start_frame\": 44473,\n",
      "                            \"video_end_frame\": 44473,\n",
      "                            \"template\": \"People: Who did I interact with when I did activity X?\",\n",
      "                            \"query\": \"Who did I interact with when I held kneels?\",\n",
      "                            \"slot_x\": \"held kneels\",\n",
      "                            \"verb_x\": \"interact\",\n",
      "                            \"raw_tags\": [\n",
      "                                \"People: Who did I interact with when I did activity X?\",\n",
      "                                \"Who did I interact with when I held kneels?\",\n",
      "                                \"held kneels\",\n",
      "                                \"interact\"\n",
      "                            ]\n",
      "                        },\n",
      "                        {\n",
      "                            \"clip_start_sec\": 239.14023,\n",
      "                            \"clip_end_sec\": 240.54,\n",
      "                            \"video_start_sec\": 1229.1365713333334,\n",
      "                            \"video_end_sec\": 1230.5363413333334,\n",
      "                            \"video_start_frame\": 44473,\n",
      "                            \"video_end_frame\": 44473,\n",
      "                            \"template\": \"Objects: How many X\\u2019s? (quantity question)\",\n",
      "                            \"query\": \"How many papers did I pick while holding a bucket?\",\n",
      "                            \"slot_x\": \"papers\",\n",
      "                            \"verb_x\": \"pick\",\n",
      "                            \"raw_tags\": [\n",
      "                                \"Objects: How many X\\u2019s? (quantity question)\",\n",
      "                                \"How many papers did I pick while holding a bucket?\",\n",
      "                                \"papers\",\n",
      "                                \"pick\"\n",
      "                            ]\n",
      "                        },\n",
      "                        {\n",
      "                            \"clip_start_sec\": 272.4931,\n",
      "                            \"clip_end_sec\": 272.4931,\n",
      "                            \"video_start_sec\": 1262.4894413333334,\n",
      "                            \"video_end_sec\": 1262.4894413333334,\n",
      "                            \"video_start_frame\": 44473,\n",
      "                            \"video_end_frame\": 44473,\n",
      "                            \"template\": \"Objects: What X is Y?\",\n",
      "                            \"query\": \"What color is the drill I gave to my colleague?\",\n",
      "                            \"slot_x\": \"color\",\n",
      "                            \"verb_x\": \"[verb_not_applicable]\",\n",
      "                            \"slot_y\": \"drill I gave to my colleague\",\n",
      "                            \"verb_y\": \"give\",\n",
      "                            \"raw_tags\": [\n",
      "                                \"Objects: What X is Y?\",\n",
      "                                \"What color is the drill I gave to my colleague?\",\n",
      "                                \"color\",\n",
      "                                \"[verb_not_applicable]\",\n",
      "                                \"drill I gave to my colleague\",\n",
      "                                \"give\"\n",
      "                            ]\n",
      "                        },\n",
      "                        {\n",
      "                            \"clip_start_sec\": 310.11968,\n",
      "                            \"clip_end_sec\": 311.419,\n",
      "                            \"video_start_sec\": 1300.1160213333333,\n",
      "                            \"video_end_sec\": 1301.4153413333333,\n",
      "                            \"video_start_frame\": 44473,\n",
      "                            \"video_end_frame\": 44473,\n",
      "                            \"template\": \"Objects: How many X\\u2019s? (quantity question)\",\n",
      "                            \"query\": \"How many pipes did my colleague drop on the floor? \",\n",
      "                            \"slot_x\": \"Pipes\",\n",
      "                            \"verb_x\": \"drop\",\n",
      "                            \"slot_y\": \"\",\n",
      "                            \"verb_y\": \"[verb_not_applicable]\",\n",
      "                            \"raw_tags\": [\n",
      "                                \"Objects: How many X\\u2019s? (quantity question)\",\n",
      "                                \"How many pipes did my colleague drop on the floor? \",\n",
      "                                \"Pipes\",\n",
      "                                \"drop\",\n",
      "                                \"\",\n",
      "                                \"[verb_not_applicable]\"\n",
      "                            ]\n",
      "                        },\n",
      "                        {\n",
      "                            \"clip_start_sec\": 373.617,\n",
      "                            \"clip_end_sec\": 374.917,\n",
      "                            \"video_start_sec\": 1363.6133413333334,\n",
      "                            \"video_end_sec\": 1364.9133413333334,\n",
      "                            \"video_start_frame\": 44473,\n",
      "                            \"video_end_frame\": 44473,\n",
      "                            \"template\": \"Objects: How many X\\u2019s? (quantity question)\",\n",
      "                            \"query\": \"How many phones did my colleague pick from the pocket?\",\n",
      "                            \"slot_x\": \"Phones\",\n",
      "                            \"verb_x\": \"pick\",\n",
      "                            \"raw_tags\": [\n",
      "                                \"Objects: How many X\\u2019s? (quantity question)\",\n",
      "                                \"How many phones did my colleague pick from the pocket?\",\n",
      "                                \"Phones\",\n",
      "                                \"pick\"\n",
      "                            ]\n",
      "                        },\n",
      "                        {\n",
      "                            \"clip_start_sec\": 476.559,\n",
      "                            \"clip_end_sec\": 478.259,\n",
      "                            \"video_start_sec\": 1466.5553413333334,\n",
      "                            \"video_end_sec\": 1468.2553413333335,\n",
      "                            \"video_start_frame\": 44473,\n",
      "                            \"video_end_frame\": 44473,\n",
      "                            \"template\": \"Objects: State of an object\",\n",
      "                            \"query\": \"Did my colleague remove a camera from the head?\",\n",
      "                            \"slot_x\": \"camera\",\n",
      "                            \"verb_x\": \"remove\",\n",
      "                            \"raw_tags\": [\n",
      "                                \"Objects: State of an object\",\n",
      "                                \"Did my colleague remove a camera from the head?\",\n",
      "                                \"camera\",\n",
      "                                \"remove\"\n",
      "                            ]\n",
      "                        }\n",
      "                    ],\n",
      "                    \"annotation_uid\": \"29ce7b6f-99c7-44ae-9004-6f4595f7e40b\"\n",
      "                }\n",
      "            ]\n",
      "        }\n",
      "    ],\n",
      "    \"split\": \"train\"\n",
      "}\n"
     ]
    }
   ]
  },
  {
   "cell_type": "markdown",
   "source": [
    "## Metadata"
   ],
   "metadata": {
    "id": "CSWzg3-8x1ux"
   }
  },
  {
   "cell_type": "code",
   "source": [
    "metadata_clips = [item for item in metadata_clips_as_dict if item.get(\"video_uid\") == vid_uid]\n",
    "json_str = json.dumps(metadata_clips, indent=4)\n",
    "print(json_str)"
   ],
   "metadata": {
    "colab": {
     "base_uri": "https://localhost:8080/"
    },
    "id": "Zof9h3xVvQnp",
    "outputId": "d55d1eb9-c55e-490f-934c-bbf81eea76aa"
   },
   "execution_count": null,
   "outputs": [
    {
     "output_type": "stream",
     "name": "stdout",
     "text": [
      "[\n",
      "    {\n",
      "        \"clip_uid\": \"1fda3b6a-d01f-44f6-bba0-ae171d558129\",\n",
      "        \"video_uid\": \"1f5ca4f1-6200-4a9a-86af-150824b51f67\",\n",
      "        \"video_start_sec\": 0.0,\n",
      "        \"video_end_sec\": 480.0366739908854,\n",
      "        \"video_start_frame\": 0,\n",
      "        \"video_end_frame\": 14401,\n",
      "        \"clip_metadata\": {\n",
      "            \"fps\": 30.0,\n",
      "            \"num_frames\": 14401,\n",
      "            \"video_codec\": \"vp9\",\n",
      "            \"audio_codec\": null,\n",
      "            \"display_resolution_width\": 1920,\n",
      "            \"display_resolution_height\": 1440,\n",
      "            \"sample_resolution_width\": 1920,\n",
      "            \"sample_resolution_height\": 1440,\n",
      "            \"mp4_duration_sec\": 480.03,\n",
      "            \"video_start_sec\": null,\n",
      "            \"video_duration_sec\": 480.033,\n",
      "            \"audio_start_sec\": null,\n",
      "            \"audio_duration_sec\": null,\n",
      "            \"video_start_pts\": 0,\n",
      "            \"video_duration_pts\": 7373312,\n",
      "            \"video_base_numerator\": 1,\n",
      "            \"video_base_denominator\": 15360,\n",
      "            \"audio_start_pts\": null,\n",
      "            \"audio_duration_pts\": null,\n",
      "            \"audio_base_numerator\": null,\n",
      "            \"audio_base_denominator\": null\n",
      "        },\n",
      "        \"s3_path\": \"\",\n",
      "        \"manifold_path\": \"manifold://ego4d_fair/tree/exported_clips/1fda3b6a-d01f-44f6-bba0-ae171d558129.mp4\"\n",
      "    },\n",
      "    {\n",
      "        \"clip_uid\": \"9f6f04ab-e7f6-450d-9ed6-47ad16180c52\",\n",
      "        \"video_uid\": \"1f5ca4f1-6200-4a9a-86af-150824b51f67\",\n",
      "        \"video_start_sec\": 989.9966666666667,\n",
      "        \"video_end_sec\": 1469.9963413333335,\n",
      "        \"video_start_frame\": 29700,\n",
      "        \"video_end_frame\": 44100,\n",
      "        \"clip_metadata\": {\n",
      "            \"fps\": 30.0,\n",
      "            \"num_frames\": 14400,\n",
      "            \"video_codec\": \"vp9\",\n",
      "            \"audio_codec\": null,\n",
      "            \"display_resolution_width\": 1920,\n",
      "            \"display_resolution_height\": 1440,\n",
      "            \"sample_resolution_width\": 1920,\n",
      "            \"sample_resolution_height\": 1440,\n",
      "            \"mp4_duration_sec\": 480.0,\n",
      "            \"video_start_sec\": null,\n",
      "            \"video_duration_sec\": 480.0,\n",
      "            \"audio_start_sec\": null,\n",
      "            \"audio_duration_sec\": null,\n",
      "            \"video_start_pts\": 0,\n",
      "            \"video_duration_pts\": 7372800,\n",
      "            \"video_base_numerator\": 1,\n",
      "            \"video_base_denominator\": 15360,\n",
      "            \"audio_start_pts\": null,\n",
      "            \"audio_duration_pts\": null,\n",
      "            \"audio_base_numerator\": null,\n",
      "            \"audio_base_denominator\": null\n",
      "        },\n",
      "        \"s3_path\": \"\",\n",
      "        \"manifold_path\": \"manifold://ego4d_fair/tree/exported_clips/9f6f04ab-e7f6-450d-9ed6-47ad16180c52.mp4\"\n",
      "    }\n",
      "]\n"
     ]
    }
   ]
  },
  {
   "cell_type": "markdown",
   "source": [
    "## Narrations"
   ],
   "metadata": {
    "id": "KyVbW4YZx5-0"
   }
  },
  {
   "cell_type": "code",
   "source": [
    "x_narrations = narration[vid_uid]['narration_pass_1']['narrations']"
   ],
   "metadata": {
    "id": "-ULLDud2vQqJ"
   },
   "execution_count": null,
   "outputs": []
  },
  {
   "cell_type": "code",
   "source": [
    "json_str = json.dumps(x_narrations[320:332], indent=4)\n",
    "print(json_str)"
   ],
   "metadata": {
    "colab": {
     "base_uri": "https://localhost:8080/"
    },
    "id": "yA8vckKfyY22",
    "outputId": "25aafdb4-aaab-41bd-f561-363c9a5faeb0"
   },
   "execution_count": null,
   "outputs": [
    {
     "output_type": "stream",
     "name": "stdout",
     "text": [
      "[\n",
      "    {\n",
      "        \"timestamp_sec\": 1041.9134966666666,\n",
      "        \"timestamp_frame\": 31257,\n",
      "        \"_unmapped_timestamp_sec\": 1041.9168300000001,\n",
      "        \"narration_text\": \"#O Apprentice Y shines a torchlight in the sink.\",\n",
      "        \"annotation_uid\": \"418412b6-dbf2-469d-9acd-db36886c5061\"\n",
      "    },\n",
      "    {\n",
      "        \"timestamp_sec\": 1044.2343766666668,\n",
      "        \"timestamp_frame\": 31327,\n",
      "        \"_unmapped_timestamp_sec\": 1044.2377099999999,\n",
      "        \"narration_text\": \"#C C marks the sink with the marker in his right hand.\",\n",
      "        \"annotation_uid\": \"418412b6-dbf2-469d-9acd-db36886c5061\"\n",
      "    },\n",
      "    {\n",
      "        \"timestamp_sec\": 1048.2638366666665,\n",
      "        \"timestamp_frame\": 31448,\n",
      "        \"_unmapped_timestamp_sec\": 1048.26717,\n",
      "        \"narration_text\": \"#O Apprentice Y drops the torchlight in the sink.\",\n",
      "        \"annotation_uid\": \"418412b6-dbf2-469d-9acd-db36886c5061\"\n",
      "    },\n",
      "    {\n",
      "        \"timestamp_sec\": 1054.2992966666666,\n",
      "        \"timestamp_frame\": 31629,\n",
      "        \"_unmapped_timestamp_sec\": 1054.30263,\n",
      "        \"narration_text\": \"#C C places his left hand on the sink.\",\n",
      "        \"annotation_uid\": \"418412b6-dbf2-469d-9acd-db36886c5061\"\n",
      "    },\n",
      "    {\n",
      "        \"timestamp_sec\": 1056.0428066666668,\n",
      "        \"timestamp_frame\": 31681,\n",
      "        \"_unmapped_timestamp_sec\": 1056.04614,\n",
      "        \"narration_text\": \"#C C places both hands on the sink.\",\n",
      "        \"annotation_uid\": \"418412b6-dbf2-469d-9acd-db36886c5061\"\n",
      "    },\n",
      "    {\n",
      "        \"timestamp_sec\": 1057.1285366666666,\n",
      "        \"timestamp_frame\": 31714,\n",
      "        \"_unmapped_timestamp_sec\": 1057.13187,\n",
      "        \"narration_text\": \"#O Apprentice X leans over the sink.\",\n",
      "        \"annotation_uid\": \"418412b6-dbf2-469d-9acd-db36886c5061\"\n",
      "    },\n",
      "    {\n",
      "        \"timestamp_sec\": 1057.1285366666666,\n",
      "        \"timestamp_frame\": 31714,\n",
      "        \"_unmapped_timestamp_sec\": 1057.13187,\n",
      "        \"narration_text\": \"#C C turns away from the sink.\",\n",
      "        \"annotation_uid\": \"418412b6-dbf2-469d-9acd-db36886c5061\"\n",
      "    },\n",
      "    {\n",
      "        \"timestamp_sec\": 1060.4657366666665,\n",
      "        \"timestamp_frame\": 31814,\n",
      "        \"_unmapped_timestamp_sec\": 1060.46907,\n",
      "        \"narration_text\": \"#C C places his left hand on the room entrance door.\",\n",
      "        \"annotation_uid\": \"418412b6-dbf2-469d-9acd-db36886c5061\"\n",
      "    },\n",
      "    {\n",
      "        \"timestamp_sec\": 1062.2681313333333,\n",
      "        \"timestamp_frame\": 31868,\n",
      "        \"_unmapped_timestamp_sec\": 1062.27179,\n",
      "        \"narration_text\": \"#C C walks out from the room.\",\n",
      "        \"annotation_uid\": \"418412b6-dbf2-469d-9acd-db36886c5061\"\n",
      "    },\n",
      "    {\n",
      "        \"timestamp_sec\": 1065.5620713333333,\n",
      "        \"timestamp_frame\": 31967,\n",
      "        \"_unmapped_timestamp_sec\": 1065.56573,\n",
      "        \"narration_text\": \"#C C picks up a plumber spirit level with his right hand.\",\n",
      "        \"annotation_uid\": \"418412b6-dbf2-469d-9acd-db36886c5061\"\n",
      "    },\n",
      "    {\n",
      "        \"timestamp_sec\": 1074.7358313333334,\n",
      "        \"timestamp_frame\": 32242,\n",
      "        \"_unmapped_timestamp_sec\": 1074.73949,\n",
      "        \"narration_text\": \"#C C places the spirit level on top the sink  with his right hand.\",\n",
      "        \"annotation_uid\": \"418412b6-dbf2-469d-9acd-db36886c5061\"\n",
      "    },\n",
      "    {\n",
      "        \"timestamp_sec\": 1068.3651513333334,\n",
      "        \"timestamp_frame\": 32051,\n",
      "        \"_unmapped_timestamp_sec\": 1068.36881,\n",
      "        \"narration_text\": \"#C C holds plumber spirit level with both hand.\",\n",
      "        \"annotation_uid\": \"418412b6-dbf2-469d-9acd-db36886c5061\"\n",
      "    }\n",
      "]\n"
     ]
    }
   ]
  },
  {
   "cell_type": "code",
   "source": [
    "big_dictionary = {\"videos\":[]}\n",
    "minus = 0\n",
    "\n",
    "#total 260 MB of data if we use all stuff\n",
    "counter = 0\n",
    "skipped_videos = 0\n",
    "for video_uid in narration:\n",
    "  if video_uid not in common_files:\n",
    "    skipped_videos = skipped_videos+1\n",
    "    continue\n",
    "\n",
    "  # if counter>=50:   # when 50 the size is the same as train :) which is super good\n",
    "  #   break\n",
    "\n",
    "  metadata_clips_as_dict = metadata.get(\"clips\")\n",
    "\n",
    "  metadata_clips = [item for item in metadata_clips_as_dict if item.get(\"video_uid\") == video_uid]\n",
    "  if len(metadata_clips) == 0:\n",
    "    minus=minus+1\n",
    "    continue\n",
    "\n",
    "  list_of_clips = []\n",
    "  for metadata_video in metadata_clips:\n",
    "\n",
    "    dic_with_metadata = {\n",
    "        \"clip_uid\" : metadata_video[\"clip_uid\"],\n",
    "        \"video_start_sec\" : metadata_video[\"video_start_sec\"],\n",
    "        \"video_end_sec\" : metadata_video[\"video_end_sec\"],\n",
    "        \"annotations\":[]\n",
    "    }\n",
    "\n",
    "    video = narration[video_uid]\n",
    "    if not video:\n",
    "      continue\n",
    "    narrator_1 = video.get(\"narration_pass_1\")\n",
    "    if not narrator_1:\n",
    "      continue\n",
    "    narrations = (narrator_1.get(\"narrations\"))\n",
    "    if len(narrations) == 0:\n",
    "      continue\n",
    "\n",
    "    language_queries = []\n",
    "    # we skip the last narration for each video\n",
    "    for i in range(len(narrations)-1):\n",
    "      if narrations[i][\"timestamp_sec\"] < dic_with_metadata[\"video_start_sec\"] or narrations[i+1][\"timestamp_sec\"] > dic_with_metadata[\"video_end_sec\"]:\n",
    "        continue\n",
    "\n",
    "      dic = {\n",
    "          \"clip_start_sec\" : narrations[i][\"timestamp_sec\"] - dic_with_metadata[\"video_start_sec\"],\n",
    "          \"clip_end_sec\" : narrations[i+1][\"timestamp_sec\"] - dic_with_metadata[\"video_start_sec\"],\n",
    "          \"query\": narrations[i][\"narration_text\"]\n",
    "      }\n",
    "      language_queries.append(dic)\n",
    "    annotation_uid = narrations[0][\"annotation_uid\"]\n",
    "    dic_with_metadata[\"annotations\"].append({\n",
    "        \"language_queries\":language_queries,\n",
    "        \"annotation_uid\":annotation_uid\n",
    "        })\n",
    "    list_of_clips.append(dic_with_metadata)\n",
    "\n",
    "  if len(list_of_clips) == 0:\n",
    "    continue\n",
    "  ids_dictionary = {\n",
    "      \"video_uid\" : video_uid,\n",
    "      \"clips\": list_of_clips\n",
    "                    }\n",
    "  big_dictionary[\"videos\"].append(ids_dictionary)\n",
    "  counter = counter + 1\n",
    "\n",
    "\n",
    "print(counter)"
   ],
   "metadata": {
    "colab": {
     "base_uri": "https://localhost:8080/"
    },
    "id": "zm2JVE6jybEV",
    "outputId": "84b09cfc-25c6-4d77-e625-2ba68dfdcf28"
   },
   "execution_count": null,
   "outputs": [
    {
     "output_type": "stream",
     "name": "stdout",
     "text": [
      "2414\n"
     ]
    }
   ]
  },
  {
   "cell_type": "code",
   "source": [
    "print(skipped_videos)\n",
    "print(len(narration) - len (common_files))"
   ],
   "metadata": {
    "colab": {
     "base_uri": "https://localhost:8080/"
    },
    "id": "ZjuBeQQ5Gyln",
    "outputId": "87ca278b-5fb1-444f-8460-6f5dd6558173"
   },
   "execution_count": null,
   "outputs": [
    {
     "output_type": "stream",
     "name": "stdout",
     "text": [
      "806\n",
      "806\n"
     ]
    }
   ]
  },
  {
   "cell_type": "code",
   "source": [
    "print(len(common_files))\n",
    "print(len(narration))"
   ],
   "metadata": {
    "id": "pQP7z4-hBEH_",
    "colab": {
     "base_uri": "https://localhost:8080/"
    },
    "outputId": "d0c58dba-9e01-4ca7-d285-9a3e046a58ce"
   },
   "execution_count": null,
   "outputs": [
    {
     "output_type": "stream",
     "name": "stdout",
     "text": [
      "8839\n",
      "9645\n"
     ]
    }
   ]
  },
  {
   "cell_type": "code",
   "source": [
    "print(\"videos with 0 clips:\", minus)"
   ],
   "metadata": {
    "colab": {
     "base_uri": "https://localhost:8080/"
    },
    "id": "5Y5ZLUkSF87u",
    "outputId": "d41255cb-c792-4e35-dcd6-935dffd57e9d"
   },
   "execution_count": null,
   "outputs": [
    {
     "output_type": "stream",
     "name": "stdout",
     "text": [
      "videos with 0 clips: 5716\n"
     ]
    }
   ]
  },
  {
   "cell_type": "code",
   "source": [],
   "metadata": {
    "id": "VUiUjkffHLfU"
   },
   "execution_count": null,
   "outputs": []
  }
 ],
 "metadata": {
  "colab": {
   "provenance": [],
   "collapsed_sections": [
    "XFiMLhlZxxGj"
   ]
  },
  "kernelspec": {
   "display_name": "Python 3",
   "name": "python3"
  },
  "language_info": {
   "name": "python"
  }
 },
 "nbformat": 4,
 "nbformat_minor": 0
}
